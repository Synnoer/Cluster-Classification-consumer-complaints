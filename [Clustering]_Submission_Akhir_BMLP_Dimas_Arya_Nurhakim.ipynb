{
  "nbformat": 4,
  "nbformat_minor": 0,
  "metadata": {
    "colab": {
      "provenance": []
    },
    "kernelspec": {
      "name": "python3",
      "display_name": "Python 3"
    },
    "language_info": {
      "name": "python"
    }
  },
  "cells": [
    {
      "cell_type": "markdown",
      "source": [
        "# **1. Perkenalan Dataset**\n"
      ],
      "metadata": {
        "id": "kZLRMFl0JyyQ"
      }
    },
    {
      "cell_type": "markdown",
      "source": [
        "Tahap pertama, Anda harus mencari dan menggunakan dataset **tanpa label** dengan ketentuan sebagai berikut:\n",
        "\n",
        "1. **Sumber Dataset**:  \n",
        "   Dataset dapat diperoleh dari berbagai sumber, seperti public repositories (*Kaggle*, *UCI ML Repository*, *Open Data*) atau data primer yang Anda kumpulkan sendiri.\n",
        "   \n",
        "2. **Ketentuan Dataset**:\n",
        "   - **Tanpa label**: Dataset tidak boleh memiliki label atau kelas.\n",
        "   - **Jumlah Baris**: Minimal 1000 baris untuk memastikan dataset cukup besar untuk analisis yang bermakna.\n",
        "   - **Tipe Data**: Harus mengandung data **kategorikal** dan **numerikal**.\n",
        "     - *Kategorikal*: Misalnya jenis kelamin, kategori produk.\n",
        "     - *Numerikal*: Misalnya usia, pendapatan, harga.\n",
        "\n",
        "3. **Pembatasan**:  \n",
        "   Dataset yang sudah digunakan dalam latihan clustering (seperti customer segmentation) tidak boleh digunakan."
      ],
      "metadata": {
        "id": "hssSDn-5n3HR"
      }
    },
    {
      "cell_type": "code",
      "source": [
        "import kagglehub\n",
        "from kagglehub import KaggleDatasetAdapter\n",
        "\n",
        "path = kagglehub.dataset_download(\"anandshaw2001/consumer-complaints\")\n",
        "\n",
        "print(\"Path:\", path)"
      ],
      "metadata": {
        "id": "FBOW9zrcIX_N",
        "colab": {
          "base_uri": "https://localhost:8080/"
        },
        "outputId": "7d5f2b6b-04ba-4830-b9bf-35a18f11dc79"
      },
      "execution_count": 3,
      "outputs": [
        {
          "output_type": "stream",
          "name": "stdout",
          "text": [
            "Path: /root/.cache/kagglehub/datasets/anandshaw2001/consumer-complaints/versions/1\n"
          ]
        }
      ]
    },
    {
      "cell_type": "markdown",
      "source": [
        "# **2. Import Library**"
      ],
      "metadata": {
        "id": "fKADPWcFKlj3"
      }
    },
    {
      "cell_type": "markdown",
      "source": [
        "Pada tahap ini, Anda perlu mengimpor beberapa pustaka (library) Python yang dibutuhkan untuk analisis data dan pembangunan model machine learning."
      ],
      "metadata": {
        "id": "LgA3ERnVn84N"
      }
    },
    {
      "cell_type": "code",
      "source": [
        "import numpy as np\n",
        "import pandas as pd\n",
        "import matplotlib.pyplot as plt\n",
        "import seaborn as sns\n",
        "from sklearn.preprocessing import LabelEncoder, MinMaxScaler\n",
        "from sklearn.cluster import KMeans\n",
        "from sklearn.metrics import silhouette_score\n",
        "from sklearn.decomposition import PCA\n",
        "from sklearn.feature_selection import VarianceThreshold, SelectKBest, f_classif, mutual_info_classif\n",
        "from scipy.stats import zscore\n",
        "from collections import Counter"
      ],
      "metadata": {
        "id": "BlmvjLY9M4Yj"
      },
      "execution_count": 4,
      "outputs": []
    },
    {
      "cell_type": "markdown",
      "source": [
        "# **3. Memuat Dataset**"
      ],
      "metadata": {
        "id": "f3YIEnAFKrKL"
      }
    },
    {
      "cell_type": "markdown",
      "source": [
        "Pada tahap ini, Anda perlu memuat dataset ke dalam notebook. Jika dataset dalam format CSV, Anda bisa menggunakan pustaka pandas untuk membacanya. Pastikan untuk mengecek beberapa baris awal dataset untuk memahami strukturnya dan memastikan data telah dimuat dengan benar.\n",
        "\n",
        "Jika dataset berada di Google Drive, pastikan Anda menghubungkan Google Drive ke Colab terlebih dahulu. Setelah dataset berhasil dimuat, langkah berikutnya adalah memeriksa kesesuaian data dan siap untuk dianalisis lebih lanjut."
      ],
      "metadata": {
        "id": "Ey3ItwTen_7E"
      }
    },
    {
      "cell_type": "code",
      "source": [
        "data = pd.read_csv(\"/root/.cache/kagglehub/datasets/anandshaw2001/consumer-complaints/versions/1/datatset_consumer_complaints.csv\")\n",
        "data.head()"
      ],
      "metadata": {
        "id": "GHCGNTyrM5fS",
        "colab": {
          "base_uri": "https://localhost:8080/",
          "height": 417
        },
        "outputId": "d416c9bc-1c8d-4b6e-d38f-d38e304fd8f8"
      },
      "execution_count": 5,
      "outputs": [
        {
          "output_type": "execute_result",
          "data": {
            "text/plain": [
              "        ID                           Company           Product  \\\n",
              "0  1615767                      PHH Mortgage          Mortgage   \n",
              "1   654223                             Ocwen          Mortgage   \n",
              "2  1143398    Southwest Credit Systems, L.P.   Debt collection   \n",
              "3  1303679  Continental Finance Company, LLC       Credit card   \n",
              "4  1627370                          Experian  Credit reporting   \n",
              "\n",
              "                                      Issue State Submitted via Date received  \\\n",
              "0  Loan servicing, payments, escrow account    FL           Web    10/20/2015   \n",
              "1  Loan servicing, payments, escrow account    NC           Web      3/1/2014   \n",
              "2  Loan modification,collection,foreclosure    MO           Web     4/12/2014   \n",
              "3                         Billing statement    WA           Web    03/26/2015   \n",
              "4  Unable to get credit report/credit score    VA           Web    10/27/2015   \n",
              "\n",
              "  Date resolved Timely response? Consumer disputed?      state name  \\\n",
              "0    10/20/2015              Yes                 No         Florida   \n",
              "1      3/1/2014              Yes                 No  North Carolina   \n",
              "2     4/12/2014              Yes                 No        Missouri   \n",
              "3    03/26/2015              Yes                 No      Washington   \n",
              "4    10/27/2015              Yes                 No        Virginia   \n",
              "\n",
              "  Date received.1 Date resolved.1  Resolution time(in days)  Year QTR (US FLY)  \n",
              "0      10/20/2015      10/20/2015                         0  2015           Q4  \n",
              "1        1/3/2014        1/3/2014                         0  2014           Q1  \n",
              "2       12/4/2014       12/4/2014                         0  2014           Q4  \n",
              "3       3/26/2015       3/26/2015                         0  2015           Q1  \n",
              "4      10/27/2015      10/27/2015                         0  2015           Q4  "
            ],
            "text/html": [
              "\n",
              "  <div id=\"df-ba400e46-72d5-4b2c-bd53-67cda6a29c97\" class=\"colab-df-container\">\n",
              "    <div>\n",
              "<style scoped>\n",
              "    .dataframe tbody tr th:only-of-type {\n",
              "        vertical-align: middle;\n",
              "    }\n",
              "\n",
              "    .dataframe tbody tr th {\n",
              "        vertical-align: top;\n",
              "    }\n",
              "\n",
              "    .dataframe thead th {\n",
              "        text-align: right;\n",
              "    }\n",
              "</style>\n",
              "<table border=\"1\" class=\"dataframe\">\n",
              "  <thead>\n",
              "    <tr style=\"text-align: right;\">\n",
              "      <th></th>\n",
              "      <th>ID</th>\n",
              "      <th>Company</th>\n",
              "      <th>Product</th>\n",
              "      <th>Issue</th>\n",
              "      <th>State</th>\n",
              "      <th>Submitted via</th>\n",
              "      <th>Date received</th>\n",
              "      <th>Date resolved</th>\n",
              "      <th>Timely response?</th>\n",
              "      <th>Consumer disputed?</th>\n",
              "      <th>state name</th>\n",
              "      <th>Date received.1</th>\n",
              "      <th>Date resolved.1</th>\n",
              "      <th>Resolution time(in days)</th>\n",
              "      <th>Year</th>\n",
              "      <th>QTR (US FLY)</th>\n",
              "    </tr>\n",
              "  </thead>\n",
              "  <tbody>\n",
              "    <tr>\n",
              "      <th>0</th>\n",
              "      <td>1615767</td>\n",
              "      <td>PHH Mortgage</td>\n",
              "      <td>Mortgage</td>\n",
              "      <td>Loan servicing, payments, escrow account</td>\n",
              "      <td>FL</td>\n",
              "      <td>Web</td>\n",
              "      <td>10/20/2015</td>\n",
              "      <td>10/20/2015</td>\n",
              "      <td>Yes</td>\n",
              "      <td>No</td>\n",
              "      <td>Florida</td>\n",
              "      <td>10/20/2015</td>\n",
              "      <td>10/20/2015</td>\n",
              "      <td>0</td>\n",
              "      <td>2015</td>\n",
              "      <td>Q4</td>\n",
              "    </tr>\n",
              "    <tr>\n",
              "      <th>1</th>\n",
              "      <td>654223</td>\n",
              "      <td>Ocwen</td>\n",
              "      <td>Mortgage</td>\n",
              "      <td>Loan servicing, payments, escrow account</td>\n",
              "      <td>NC</td>\n",
              "      <td>Web</td>\n",
              "      <td>3/1/2014</td>\n",
              "      <td>3/1/2014</td>\n",
              "      <td>Yes</td>\n",
              "      <td>No</td>\n",
              "      <td>North Carolina</td>\n",
              "      <td>1/3/2014</td>\n",
              "      <td>1/3/2014</td>\n",
              "      <td>0</td>\n",
              "      <td>2014</td>\n",
              "      <td>Q1</td>\n",
              "    </tr>\n",
              "    <tr>\n",
              "      <th>2</th>\n",
              "      <td>1143398</td>\n",
              "      <td>Southwest Credit Systems, L.P.</td>\n",
              "      <td>Debt collection</td>\n",
              "      <td>Loan modification,collection,foreclosure</td>\n",
              "      <td>MO</td>\n",
              "      <td>Web</td>\n",
              "      <td>4/12/2014</td>\n",
              "      <td>4/12/2014</td>\n",
              "      <td>Yes</td>\n",
              "      <td>No</td>\n",
              "      <td>Missouri</td>\n",
              "      <td>12/4/2014</td>\n",
              "      <td>12/4/2014</td>\n",
              "      <td>0</td>\n",
              "      <td>2014</td>\n",
              "      <td>Q4</td>\n",
              "    </tr>\n",
              "    <tr>\n",
              "      <th>3</th>\n",
              "      <td>1303679</td>\n",
              "      <td>Continental Finance Company, LLC</td>\n",
              "      <td>Credit card</td>\n",
              "      <td>Billing statement</td>\n",
              "      <td>WA</td>\n",
              "      <td>Web</td>\n",
              "      <td>03/26/2015</td>\n",
              "      <td>03/26/2015</td>\n",
              "      <td>Yes</td>\n",
              "      <td>No</td>\n",
              "      <td>Washington</td>\n",
              "      <td>3/26/2015</td>\n",
              "      <td>3/26/2015</td>\n",
              "      <td>0</td>\n",
              "      <td>2015</td>\n",
              "      <td>Q1</td>\n",
              "    </tr>\n",
              "    <tr>\n",
              "      <th>4</th>\n",
              "      <td>1627370</td>\n",
              "      <td>Experian</td>\n",
              "      <td>Credit reporting</td>\n",
              "      <td>Unable to get credit report/credit score</td>\n",
              "      <td>VA</td>\n",
              "      <td>Web</td>\n",
              "      <td>10/27/2015</td>\n",
              "      <td>10/27/2015</td>\n",
              "      <td>Yes</td>\n",
              "      <td>No</td>\n",
              "      <td>Virginia</td>\n",
              "      <td>10/27/2015</td>\n",
              "      <td>10/27/2015</td>\n",
              "      <td>0</td>\n",
              "      <td>2015</td>\n",
              "      <td>Q4</td>\n",
              "    </tr>\n",
              "  </tbody>\n",
              "</table>\n",
              "</div>\n",
              "    <div class=\"colab-df-buttons\">\n",
              "\n",
              "  <div class=\"colab-df-container\">\n",
              "    <button class=\"colab-df-convert\" onclick=\"convertToInteractive('df-ba400e46-72d5-4b2c-bd53-67cda6a29c97')\"\n",
              "            title=\"Convert this dataframe to an interactive table.\"\n",
              "            style=\"display:none;\">\n",
              "\n",
              "  <svg xmlns=\"http://www.w3.org/2000/svg\" height=\"24px\" viewBox=\"0 -960 960 960\">\n",
              "    <path d=\"M120-120v-720h720v720H120Zm60-500h600v-160H180v160Zm220 220h160v-160H400v160Zm0 220h160v-160H400v160ZM180-400h160v-160H180v160Zm440 0h160v-160H620v160ZM180-180h160v-160H180v160Zm440 0h160v-160H620v160Z\"/>\n",
              "  </svg>\n",
              "    </button>\n",
              "\n",
              "  <style>\n",
              "    .colab-df-container {\n",
              "      display:flex;\n",
              "      gap: 12px;\n",
              "    }\n",
              "\n",
              "    .colab-df-convert {\n",
              "      background-color: #E8F0FE;\n",
              "      border: none;\n",
              "      border-radius: 50%;\n",
              "      cursor: pointer;\n",
              "      display: none;\n",
              "      fill: #1967D2;\n",
              "      height: 32px;\n",
              "      padding: 0 0 0 0;\n",
              "      width: 32px;\n",
              "    }\n",
              "\n",
              "    .colab-df-convert:hover {\n",
              "      background-color: #E2EBFA;\n",
              "      box-shadow: 0px 1px 2px rgba(60, 64, 67, 0.3), 0px 1px 3px 1px rgba(60, 64, 67, 0.15);\n",
              "      fill: #174EA6;\n",
              "    }\n",
              "\n",
              "    .colab-df-buttons div {\n",
              "      margin-bottom: 4px;\n",
              "    }\n",
              "\n",
              "    [theme=dark] .colab-df-convert {\n",
              "      background-color: #3B4455;\n",
              "      fill: #D2E3FC;\n",
              "    }\n",
              "\n",
              "    [theme=dark] .colab-df-convert:hover {\n",
              "      background-color: #434B5C;\n",
              "      box-shadow: 0px 1px 3px 1px rgba(0, 0, 0, 0.15);\n",
              "      filter: drop-shadow(0px 1px 2px rgba(0, 0, 0, 0.3));\n",
              "      fill: #FFFFFF;\n",
              "    }\n",
              "  </style>\n",
              "\n",
              "    <script>\n",
              "      const buttonEl =\n",
              "        document.querySelector('#df-ba400e46-72d5-4b2c-bd53-67cda6a29c97 button.colab-df-convert');\n",
              "      buttonEl.style.display =\n",
              "        google.colab.kernel.accessAllowed ? 'block' : 'none';\n",
              "\n",
              "      async function convertToInteractive(key) {\n",
              "        const element = document.querySelector('#df-ba400e46-72d5-4b2c-bd53-67cda6a29c97');\n",
              "        const dataTable =\n",
              "          await google.colab.kernel.invokeFunction('convertToInteractive',\n",
              "                                                    [key], {});\n",
              "        if (!dataTable) return;\n",
              "\n",
              "        const docLinkHtml = 'Like what you see? Visit the ' +\n",
              "          '<a target=\"_blank\" href=https://colab.research.google.com/notebooks/data_table.ipynb>data table notebook</a>'\n",
              "          + ' to learn more about interactive tables.';\n",
              "        element.innerHTML = '';\n",
              "        dataTable['output_type'] = 'display_data';\n",
              "        await google.colab.output.renderOutput(dataTable, element);\n",
              "        const docLink = document.createElement('div');\n",
              "        docLink.innerHTML = docLinkHtml;\n",
              "        element.appendChild(docLink);\n",
              "      }\n",
              "    </script>\n",
              "  </div>\n",
              "\n",
              "\n",
              "<div id=\"df-4a5de706-efd4-4def-8fd6-6b1755c863cd\">\n",
              "  <button class=\"colab-df-quickchart\" onclick=\"quickchart('df-4a5de706-efd4-4def-8fd6-6b1755c863cd')\"\n",
              "            title=\"Suggest charts\"\n",
              "            style=\"display:none;\">\n",
              "\n",
              "<svg xmlns=\"http://www.w3.org/2000/svg\" height=\"24px\"viewBox=\"0 0 24 24\"\n",
              "     width=\"24px\">\n",
              "    <g>\n",
              "        <path d=\"M19 3H5c-1.1 0-2 .9-2 2v14c0 1.1.9 2 2 2h14c1.1 0 2-.9 2-2V5c0-1.1-.9-2-2-2zM9 17H7v-7h2v7zm4 0h-2V7h2v10zm4 0h-2v-4h2v4z\"/>\n",
              "    </g>\n",
              "</svg>\n",
              "  </button>\n",
              "\n",
              "<style>\n",
              "  .colab-df-quickchart {\n",
              "      --bg-color: #E8F0FE;\n",
              "      --fill-color: #1967D2;\n",
              "      --hover-bg-color: #E2EBFA;\n",
              "      --hover-fill-color: #174EA6;\n",
              "      --disabled-fill-color: #AAA;\n",
              "      --disabled-bg-color: #DDD;\n",
              "  }\n",
              "\n",
              "  [theme=dark] .colab-df-quickchart {\n",
              "      --bg-color: #3B4455;\n",
              "      --fill-color: #D2E3FC;\n",
              "      --hover-bg-color: #434B5C;\n",
              "      --hover-fill-color: #FFFFFF;\n",
              "      --disabled-bg-color: #3B4455;\n",
              "      --disabled-fill-color: #666;\n",
              "  }\n",
              "\n",
              "  .colab-df-quickchart {\n",
              "    background-color: var(--bg-color);\n",
              "    border: none;\n",
              "    border-radius: 50%;\n",
              "    cursor: pointer;\n",
              "    display: none;\n",
              "    fill: var(--fill-color);\n",
              "    height: 32px;\n",
              "    padding: 0;\n",
              "    width: 32px;\n",
              "  }\n",
              "\n",
              "  .colab-df-quickchart:hover {\n",
              "    background-color: var(--hover-bg-color);\n",
              "    box-shadow: 0 1px 2px rgba(60, 64, 67, 0.3), 0 1px 3px 1px rgba(60, 64, 67, 0.15);\n",
              "    fill: var(--button-hover-fill-color);\n",
              "  }\n",
              "\n",
              "  .colab-df-quickchart-complete:disabled,\n",
              "  .colab-df-quickchart-complete:disabled:hover {\n",
              "    background-color: var(--disabled-bg-color);\n",
              "    fill: var(--disabled-fill-color);\n",
              "    box-shadow: none;\n",
              "  }\n",
              "\n",
              "  .colab-df-spinner {\n",
              "    border: 2px solid var(--fill-color);\n",
              "    border-color: transparent;\n",
              "    border-bottom-color: var(--fill-color);\n",
              "    animation:\n",
              "      spin 1s steps(1) infinite;\n",
              "  }\n",
              "\n",
              "  @keyframes spin {\n",
              "    0% {\n",
              "      border-color: transparent;\n",
              "      border-bottom-color: var(--fill-color);\n",
              "      border-left-color: var(--fill-color);\n",
              "    }\n",
              "    20% {\n",
              "      border-color: transparent;\n",
              "      border-left-color: var(--fill-color);\n",
              "      border-top-color: var(--fill-color);\n",
              "    }\n",
              "    30% {\n",
              "      border-color: transparent;\n",
              "      border-left-color: var(--fill-color);\n",
              "      border-top-color: var(--fill-color);\n",
              "      border-right-color: var(--fill-color);\n",
              "    }\n",
              "    40% {\n",
              "      border-color: transparent;\n",
              "      border-right-color: var(--fill-color);\n",
              "      border-top-color: var(--fill-color);\n",
              "    }\n",
              "    60% {\n",
              "      border-color: transparent;\n",
              "      border-right-color: var(--fill-color);\n",
              "    }\n",
              "    80% {\n",
              "      border-color: transparent;\n",
              "      border-right-color: var(--fill-color);\n",
              "      border-bottom-color: var(--fill-color);\n",
              "    }\n",
              "    90% {\n",
              "      border-color: transparent;\n",
              "      border-bottom-color: var(--fill-color);\n",
              "    }\n",
              "  }\n",
              "</style>\n",
              "\n",
              "  <script>\n",
              "    async function quickchart(key) {\n",
              "      const quickchartButtonEl =\n",
              "        document.querySelector('#' + key + ' button');\n",
              "      quickchartButtonEl.disabled = true;  // To prevent multiple clicks.\n",
              "      quickchartButtonEl.classList.add('colab-df-spinner');\n",
              "      try {\n",
              "        const charts = await google.colab.kernel.invokeFunction(\n",
              "            'suggestCharts', [key], {});\n",
              "      } catch (error) {\n",
              "        console.error('Error during call to suggestCharts:', error);\n",
              "      }\n",
              "      quickchartButtonEl.classList.remove('colab-df-spinner');\n",
              "      quickchartButtonEl.classList.add('colab-df-quickchart-complete');\n",
              "    }\n",
              "    (() => {\n",
              "      let quickchartButtonEl =\n",
              "        document.querySelector('#df-4a5de706-efd4-4def-8fd6-6b1755c863cd button');\n",
              "      quickchartButtonEl.style.display =\n",
              "        google.colab.kernel.accessAllowed ? 'block' : 'none';\n",
              "    })();\n",
              "  </script>\n",
              "</div>\n",
              "\n",
              "    </div>\n",
              "  </div>\n"
            ],
            "application/vnd.google.colaboratory.intrinsic+json": {
              "type": "dataframe",
              "variable_name": "data",
              "summary": "{\n  \"name\": \"data\",\n  \"rows\": 14000,\n  \"fields\": [\n    {\n      \"column\": \" ID\",\n      \"properties\": {\n        \"dtype\": \"number\",\n        \"std\": 539610,\n        \"min\": 216299,\n        \"max\": 2207193,\n        \"num_unique_values\": 14000,\n        \"samples\": [\n          350153,\n          633917,\n          1285839\n        ],\n        \"semantic_type\": \"\",\n        \"description\": \"\"\n      }\n    },\n    {\n      \"column\": \"Company\",\n      \"properties\": {\n        \"dtype\": \"category\",\n        \"num_unique_values\": 1050,\n        \"samples\": [\n          \"Ophrys, L.L.C.\",\n          \"Lakeview Loan Servicing, LLC\",\n          \"Webster Account Solutions LLC\"\n        ],\n        \"semantic_type\": \"\",\n        \"description\": \"\"\n      }\n    },\n    {\n      \"column\": \"Product\",\n      \"properties\": {\n        \"dtype\": \"category\",\n        \"num_unique_values\": 12,\n        \"samples\": [\n          \"Other financial service\",\n          \"Money transfers\",\n          \"Mortgage\"\n        ],\n        \"semantic_type\": \"\",\n        \"description\": \"\"\n      }\n    },\n    {\n      \"column\": \"Issue\",\n      \"properties\": {\n        \"dtype\": \"category\",\n        \"num_unique_values\": 81,\n        \"samples\": [\n          \"APR or interest rate\",\n          \"Loan servicing, payments, escrow account\",\n          \"Communication tactics\"\n        ],\n        \"semantic_type\": \"\",\n        \"description\": \"\"\n      }\n    },\n    {\n      \"column\": \"State\",\n      \"properties\": {\n        \"dtype\": \"category\",\n        \"num_unique_values\": 59,\n        \"samples\": [\n          \"FL\",\n          \"IL\",\n          \"WI\"\n        ],\n        \"semantic_type\": \"\",\n        \"description\": \"\"\n      }\n    },\n    {\n      \"column\": \"Submitted via\",\n      \"properties\": {\n        \"dtype\": \"category\",\n        \"num_unique_values\": 5,\n        \"samples\": [\n          \"Email\",\n          \"Fax\",\n          \"Postal mail\"\n        ],\n        \"semantic_type\": \"\",\n        \"description\": \"\"\n      }\n    },\n    {\n      \"column\": \"Date received\",\n      \"properties\": {\n        \"dtype\": \"object\",\n        \"num_unique_values\": 1370,\n        \"samples\": [\n          \"03/29/2016\",\n          \"04/20/2015\",\n          \"4/2/2014\"\n        ],\n        \"semantic_type\": \"\",\n        \"description\": \"\"\n      }\n    },\n    {\n      \"column\": \"Date resolved\",\n      \"properties\": {\n        \"dtype\": \"object\",\n        \"num_unique_values\": 1322,\n        \"samples\": [\n          \"3/1/2015\",\n          \"10/27/2014\",\n          \"05/17/2014\"\n        ],\n        \"semantic_type\": \"\",\n        \"description\": \"\"\n      }\n    },\n    {\n      \"column\": \"Timely response?\",\n      \"properties\": {\n        \"dtype\": \"category\",\n        \"num_unique_values\": 2,\n        \"samples\": [\n          \"No\",\n          \"Yes\"\n        ],\n        \"semantic_type\": \"\",\n        \"description\": \"\"\n      }\n    },\n    {\n      \"column\": \"Consumer disputed?\",\n      \"properties\": {\n        \"dtype\": \"category\",\n        \"num_unique_values\": 2,\n        \"samples\": [\n          \"Yes\",\n          \"No\"\n        ],\n        \"semantic_type\": \"\",\n        \"description\": \"\"\n      }\n    },\n    {\n      \"column\": \"state name\",\n      \"properties\": {\n        \"dtype\": \"category\",\n        \"num_unique_values\": 51,\n        \"samples\": [\n          \"District of Columbia\",\n          \"Rhode Island\"\n        ],\n        \"semantic_type\": \"\",\n        \"description\": \"\"\n      }\n    },\n    {\n      \"column\": \"Date received.1\",\n      \"properties\": {\n        \"dtype\": \"object\",\n        \"num_unique_values\": 1370,\n        \"samples\": [\n          \"3/29/2016\",\n          \"4/20/2015\"\n        ],\n        \"semantic_type\": \"\",\n        \"description\": \"\"\n      }\n    },\n    {\n      \"column\": \"Date resolved.1\",\n      \"properties\": {\n        \"dtype\": \"object\",\n        \"num_unique_values\": 1322,\n        \"samples\": [\n          \"1/3/2015\",\n          \"10/27/2014\"\n        ],\n        \"semantic_type\": \"\",\n        \"description\": \"\"\n      }\n    },\n    {\n      \"column\": \"Resolution time(in days)\",\n      \"properties\": {\n        \"dtype\": \"number\",\n        \"std\": 6,\n        \"min\": -1,\n        \"max\": 286,\n        \"num_unique_values\": 77,\n        \"samples\": [\n          2,\n          13\n        ],\n        \"semantic_type\": \"\",\n        \"description\": \"\"\n      }\n    },\n    {\n      \"column\": \"Year\",\n      \"properties\": {\n        \"dtype\": \"number\",\n        \"std\": 1,\n        \"min\": 2013,\n        \"max\": 2016,\n        \"num_unique_values\": 4,\n        \"samples\": [\n          2014,\n          2013\n        ],\n        \"semantic_type\": \"\",\n        \"description\": \"\"\n      }\n    },\n    {\n      \"column\": \"QTR (US FLY)\",\n      \"properties\": {\n        \"dtype\": \"category\",\n        \"num_unique_values\": 4,\n        \"samples\": [\n          \"Q1\",\n          \"Q3\"\n        ],\n        \"semantic_type\": \"\",\n        \"description\": \"\"\n      }\n    }\n  ]\n}"
            }
          },
          "metadata": {},
          "execution_count": 5
        }
      ]
    },
    {
      "cell_type": "markdown",
      "source": [
        "# **4. Exploratory Data Analysis (EDA)**\n",
        "\n",
        "Pada tahap ini, Anda akan melakukan **Exploratory Data Analysis (EDA)** untuk memahami karakteristik dataset. EDA bertujuan untuk:\n",
        "\n",
        "1. **Memahami Struktur Data**\n",
        "   - Tinjau jumlah baris dan kolom dalam dataset.  \n",
        "   - Tinjau jenis data di setiap kolom (numerikal atau kategorikal).\n",
        "\n",
        "2. **Menangani Data yang Hilang**  \n",
        "   - Identifikasi dan analisis data yang hilang (*missing values*). Tentukan langkah-langkah yang diperlukan untuk menangani data yang hilang, seperti pengisian atau penghapusan data tersebut.\n",
        "\n",
        "3. **Analisis Distribusi dan Korelasi**  \n",
        "   - Analisis distribusi variabel numerik dengan statistik deskriptif dan visualisasi seperti histogram atau boxplot.  \n",
        "   - Periksa hubungan antara variabel menggunakan matriks korelasi atau scatter plot.\n",
        "\n",
        "4. **Visualisasi Data**  \n",
        "   - Buat visualisasi dasar seperti grafik distribusi dan diagram batang untuk variabel kategorikal.  \n",
        "   - Gunakan heatmap atau pairplot untuk menganalisis korelasi antar variabel.\n",
        "\n",
        "Tujuan dari EDA adalah untuk memperoleh wawasan awal yang mendalam mengenai data dan menentukan langkah selanjutnya dalam analisis atau pemodelan."
      ],
      "metadata": {
        "id": "bgZkbJLpK9UR"
      }
    },
    {
      "cell_type": "code",
      "source": [
        "data.info()"
      ],
      "metadata": {
        "id": "dKeejtvxM6X1",
        "colab": {
          "base_uri": "https://localhost:8080/"
        },
        "outputId": "de57985e-a774-4d67-cd8c-57778a49e405"
      },
      "execution_count": 6,
      "outputs": [
        {
          "output_type": "stream",
          "name": "stdout",
          "text": [
            "<class 'pandas.core.frame.DataFrame'>\n",
            "RangeIndex: 14000 entries, 0 to 13999\n",
            "Data columns (total 16 columns):\n",
            " #   Column                    Non-Null Count  Dtype \n",
            "---  ------                    --------------  ----- \n",
            " 0    ID                       14000 non-null  int64 \n",
            " 1   Company                   14000 non-null  object\n",
            " 2   Product                   14000 non-null  object\n",
            " 3   Issue                     14000 non-null  object\n",
            " 4   State                     13890 non-null  object\n",
            " 5   Submitted via             14000 non-null  object\n",
            " 6   Date received             14000 non-null  object\n",
            " 7   Date resolved             14000 non-null  object\n",
            " 8   Timely response?          14000 non-null  object\n",
            " 9   Consumer disputed?        14000 non-null  object\n",
            " 10  state name                13843 non-null  object\n",
            " 11  Date received.1           14000 non-null  object\n",
            " 12  Date resolved.1           14000 non-null  object\n",
            " 13  Resolution time(in days)  14000 non-null  int64 \n",
            " 14  Year                      14000 non-null  int64 \n",
            " 15  QTR (US FLY)              14000 non-null  object\n",
            "dtypes: int64(3), object(13)\n",
            "memory usage: 1.7+ MB\n"
          ]
        }
      ]
    },
    {
      "cell_type": "code",
      "source": [
        "data.isna().sum()"
      ],
      "metadata": {
        "id": "LeHMjOTqInCx",
        "colab": {
          "base_uri": "https://localhost:8080/",
          "height": 585
        },
        "outputId": "5b0114c1-a9fe-48e0-f2d1-a8f950f4cba7"
      },
      "execution_count": 7,
      "outputs": [
        {
          "output_type": "execute_result",
          "data": {
            "text/plain": [
              " ID                           0\n",
              "Company                       0\n",
              "Product                       0\n",
              "Issue                         0\n",
              "State                       110\n",
              "Submitted via                 0\n",
              "Date received                 0\n",
              "Date resolved                 0\n",
              "Timely response?              0\n",
              "Consumer disputed?            0\n",
              "state name                  157\n",
              "Date received.1               0\n",
              "Date resolved.1               0\n",
              "Resolution time(in days)      0\n",
              "Year                          0\n",
              "QTR (US FLY)                  0\n",
              "dtype: int64"
            ],
            "text/html": [
              "<div>\n",
              "<style scoped>\n",
              "    .dataframe tbody tr th:only-of-type {\n",
              "        vertical-align: middle;\n",
              "    }\n",
              "\n",
              "    .dataframe tbody tr th {\n",
              "        vertical-align: top;\n",
              "    }\n",
              "\n",
              "    .dataframe thead th {\n",
              "        text-align: right;\n",
              "    }\n",
              "</style>\n",
              "<table border=\"1\" class=\"dataframe\">\n",
              "  <thead>\n",
              "    <tr style=\"text-align: right;\">\n",
              "      <th></th>\n",
              "      <th>0</th>\n",
              "    </tr>\n",
              "  </thead>\n",
              "  <tbody>\n",
              "    <tr>\n",
              "      <th>ID</th>\n",
              "      <td>0</td>\n",
              "    </tr>\n",
              "    <tr>\n",
              "      <th>Company</th>\n",
              "      <td>0</td>\n",
              "    </tr>\n",
              "    <tr>\n",
              "      <th>Product</th>\n",
              "      <td>0</td>\n",
              "    </tr>\n",
              "    <tr>\n",
              "      <th>Issue</th>\n",
              "      <td>0</td>\n",
              "    </tr>\n",
              "    <tr>\n",
              "      <th>State</th>\n",
              "      <td>110</td>\n",
              "    </tr>\n",
              "    <tr>\n",
              "      <th>Submitted via</th>\n",
              "      <td>0</td>\n",
              "    </tr>\n",
              "    <tr>\n",
              "      <th>Date received</th>\n",
              "      <td>0</td>\n",
              "    </tr>\n",
              "    <tr>\n",
              "      <th>Date resolved</th>\n",
              "      <td>0</td>\n",
              "    </tr>\n",
              "    <tr>\n",
              "      <th>Timely response?</th>\n",
              "      <td>0</td>\n",
              "    </tr>\n",
              "    <tr>\n",
              "      <th>Consumer disputed?</th>\n",
              "      <td>0</td>\n",
              "    </tr>\n",
              "    <tr>\n",
              "      <th>state name</th>\n",
              "      <td>157</td>\n",
              "    </tr>\n",
              "    <tr>\n",
              "      <th>Date received.1</th>\n",
              "      <td>0</td>\n",
              "    </tr>\n",
              "    <tr>\n",
              "      <th>Date resolved.1</th>\n",
              "      <td>0</td>\n",
              "    </tr>\n",
              "    <tr>\n",
              "      <th>Resolution time(in days)</th>\n",
              "      <td>0</td>\n",
              "    </tr>\n",
              "    <tr>\n",
              "      <th>Year</th>\n",
              "      <td>0</td>\n",
              "    </tr>\n",
              "    <tr>\n",
              "      <th>QTR (US FLY)</th>\n",
              "      <td>0</td>\n",
              "    </tr>\n",
              "  </tbody>\n",
              "</table>\n",
              "</div><br><label><b>dtype:</b> int64</label>"
            ]
          },
          "metadata": {},
          "execution_count": 7
        }
      ]
    },
    {
      "cell_type": "code",
      "source": [
        "print(\"Duplicate row: \", data.duplicated().sum())"
      ],
      "metadata": {
        "id": "o8HhVESLIo8b",
        "colab": {
          "base_uri": "https://localhost:8080/"
        },
        "outputId": "d36d504f-8f4e-41d7-9b63-16fe2003a382"
      },
      "execution_count": 8,
      "outputs": [
        {
          "output_type": "stream",
          "name": "stdout",
          "text": [
            "Duplicate row:  0\n"
          ]
        }
      ]
    },
    {
      "cell_type": "code",
      "source": [
        "data.describe()"
      ],
      "metadata": {
        "id": "N5Ol4qhUIqhB",
        "colab": {
          "base_uri": "https://localhost:8080/",
          "height": 300
        },
        "outputId": "3d41b112-8600-4e33-9ed0-6f98c2bd88c5"
      },
      "execution_count": 9,
      "outputs": [
        {
          "output_type": "execute_result",
          "data": {
            "text/plain": [
              "                 ID  Resolution time(in days)          Year\n",
              "count  1.400000e+04              14000.000000  14000.000000\n",
              "mean   1.266522e+06                  2.006000   2014.656571\n",
              "std    5.396102e+05                  6.373058      1.051118\n",
              "min    2.162990e+05                 -1.000000   2013.000000\n",
              "25%    8.052365e+05                  0.000000   2014.000000\n",
              "50%    1.310814e+06                  0.000000   2015.000000\n",
              "75%    1.744076e+06                  2.000000   2016.000000\n",
              "max    2.207193e+06                286.000000   2016.000000"
            ],
            "text/html": [
              "\n",
              "  <div id=\"df-76ab543a-4f2d-49f4-9b02-31060bb2a3dd\" class=\"colab-df-container\">\n",
              "    <div>\n",
              "<style scoped>\n",
              "    .dataframe tbody tr th:only-of-type {\n",
              "        vertical-align: middle;\n",
              "    }\n",
              "\n",
              "    .dataframe tbody tr th {\n",
              "        vertical-align: top;\n",
              "    }\n",
              "\n",
              "    .dataframe thead th {\n",
              "        text-align: right;\n",
              "    }\n",
              "</style>\n",
              "<table border=\"1\" class=\"dataframe\">\n",
              "  <thead>\n",
              "    <tr style=\"text-align: right;\">\n",
              "      <th></th>\n",
              "      <th>ID</th>\n",
              "      <th>Resolution time(in days)</th>\n",
              "      <th>Year</th>\n",
              "    </tr>\n",
              "  </thead>\n",
              "  <tbody>\n",
              "    <tr>\n",
              "      <th>count</th>\n",
              "      <td>1.400000e+04</td>\n",
              "      <td>14000.000000</td>\n",
              "      <td>14000.000000</td>\n",
              "    </tr>\n",
              "    <tr>\n",
              "      <th>mean</th>\n",
              "      <td>1.266522e+06</td>\n",
              "      <td>2.006000</td>\n",
              "      <td>2014.656571</td>\n",
              "    </tr>\n",
              "    <tr>\n",
              "      <th>std</th>\n",
              "      <td>5.396102e+05</td>\n",
              "      <td>6.373058</td>\n",
              "      <td>1.051118</td>\n",
              "    </tr>\n",
              "    <tr>\n",
              "      <th>min</th>\n",
              "      <td>2.162990e+05</td>\n",
              "      <td>-1.000000</td>\n",
              "      <td>2013.000000</td>\n",
              "    </tr>\n",
              "    <tr>\n",
              "      <th>25%</th>\n",
              "      <td>8.052365e+05</td>\n",
              "      <td>0.000000</td>\n",
              "      <td>2014.000000</td>\n",
              "    </tr>\n",
              "    <tr>\n",
              "      <th>50%</th>\n",
              "      <td>1.310814e+06</td>\n",
              "      <td>0.000000</td>\n",
              "      <td>2015.000000</td>\n",
              "    </tr>\n",
              "    <tr>\n",
              "      <th>75%</th>\n",
              "      <td>1.744076e+06</td>\n",
              "      <td>2.000000</td>\n",
              "      <td>2016.000000</td>\n",
              "    </tr>\n",
              "    <tr>\n",
              "      <th>max</th>\n",
              "      <td>2.207193e+06</td>\n",
              "      <td>286.000000</td>\n",
              "      <td>2016.000000</td>\n",
              "    </tr>\n",
              "  </tbody>\n",
              "</table>\n",
              "</div>\n",
              "    <div class=\"colab-df-buttons\">\n",
              "\n",
              "  <div class=\"colab-df-container\">\n",
              "    <button class=\"colab-df-convert\" onclick=\"convertToInteractive('df-76ab543a-4f2d-49f4-9b02-31060bb2a3dd')\"\n",
              "            title=\"Convert this dataframe to an interactive table.\"\n",
              "            style=\"display:none;\">\n",
              "\n",
              "  <svg xmlns=\"http://www.w3.org/2000/svg\" height=\"24px\" viewBox=\"0 -960 960 960\">\n",
              "    <path d=\"M120-120v-720h720v720H120Zm60-500h600v-160H180v160Zm220 220h160v-160H400v160Zm0 220h160v-160H400v160ZM180-400h160v-160H180v160Zm440 0h160v-160H620v160ZM180-180h160v-160H180v160Zm440 0h160v-160H620v160Z\"/>\n",
              "  </svg>\n",
              "    </button>\n",
              "\n",
              "  <style>\n",
              "    .colab-df-container {\n",
              "      display:flex;\n",
              "      gap: 12px;\n",
              "    }\n",
              "\n",
              "    .colab-df-convert {\n",
              "      background-color: #E8F0FE;\n",
              "      border: none;\n",
              "      border-radius: 50%;\n",
              "      cursor: pointer;\n",
              "      display: none;\n",
              "      fill: #1967D2;\n",
              "      height: 32px;\n",
              "      padding: 0 0 0 0;\n",
              "      width: 32px;\n",
              "    }\n",
              "\n",
              "    .colab-df-convert:hover {\n",
              "      background-color: #E2EBFA;\n",
              "      box-shadow: 0px 1px 2px rgba(60, 64, 67, 0.3), 0px 1px 3px 1px rgba(60, 64, 67, 0.15);\n",
              "      fill: #174EA6;\n",
              "    }\n",
              "\n",
              "    .colab-df-buttons div {\n",
              "      margin-bottom: 4px;\n",
              "    }\n",
              "\n",
              "    [theme=dark] .colab-df-convert {\n",
              "      background-color: #3B4455;\n",
              "      fill: #D2E3FC;\n",
              "    }\n",
              "\n",
              "    [theme=dark] .colab-df-convert:hover {\n",
              "      background-color: #434B5C;\n",
              "      box-shadow: 0px 1px 3px 1px rgba(0, 0, 0, 0.15);\n",
              "      filter: drop-shadow(0px 1px 2px rgba(0, 0, 0, 0.3));\n",
              "      fill: #FFFFFF;\n",
              "    }\n",
              "  </style>\n",
              "\n",
              "    <script>\n",
              "      const buttonEl =\n",
              "        document.querySelector('#df-76ab543a-4f2d-49f4-9b02-31060bb2a3dd button.colab-df-convert');\n",
              "      buttonEl.style.display =\n",
              "        google.colab.kernel.accessAllowed ? 'block' : 'none';\n",
              "\n",
              "      async function convertToInteractive(key) {\n",
              "        const element = document.querySelector('#df-76ab543a-4f2d-49f4-9b02-31060bb2a3dd');\n",
              "        const dataTable =\n",
              "          await google.colab.kernel.invokeFunction('convertToInteractive',\n",
              "                                                    [key], {});\n",
              "        if (!dataTable) return;\n",
              "\n",
              "        const docLinkHtml = 'Like what you see? Visit the ' +\n",
              "          '<a target=\"_blank\" href=https://colab.research.google.com/notebooks/data_table.ipynb>data table notebook</a>'\n",
              "          + ' to learn more about interactive tables.';\n",
              "        element.innerHTML = '';\n",
              "        dataTable['output_type'] = 'display_data';\n",
              "        await google.colab.output.renderOutput(dataTable, element);\n",
              "        const docLink = document.createElement('div');\n",
              "        docLink.innerHTML = docLinkHtml;\n",
              "        element.appendChild(docLink);\n",
              "      }\n",
              "    </script>\n",
              "  </div>\n",
              "\n",
              "\n",
              "<div id=\"df-87c7d81a-bce8-4f5c-9380-a01531ad517c\">\n",
              "  <button class=\"colab-df-quickchart\" onclick=\"quickchart('df-87c7d81a-bce8-4f5c-9380-a01531ad517c')\"\n",
              "            title=\"Suggest charts\"\n",
              "            style=\"display:none;\">\n",
              "\n",
              "<svg xmlns=\"http://www.w3.org/2000/svg\" height=\"24px\"viewBox=\"0 0 24 24\"\n",
              "     width=\"24px\">\n",
              "    <g>\n",
              "        <path d=\"M19 3H5c-1.1 0-2 .9-2 2v14c0 1.1.9 2 2 2h14c1.1 0 2-.9 2-2V5c0-1.1-.9-2-2-2zM9 17H7v-7h2v7zm4 0h-2V7h2v10zm4 0h-2v-4h2v4z\"/>\n",
              "    </g>\n",
              "</svg>\n",
              "  </button>\n",
              "\n",
              "<style>\n",
              "  .colab-df-quickchart {\n",
              "      --bg-color: #E8F0FE;\n",
              "      --fill-color: #1967D2;\n",
              "      --hover-bg-color: #E2EBFA;\n",
              "      --hover-fill-color: #174EA6;\n",
              "      --disabled-fill-color: #AAA;\n",
              "      --disabled-bg-color: #DDD;\n",
              "  }\n",
              "\n",
              "  [theme=dark] .colab-df-quickchart {\n",
              "      --bg-color: #3B4455;\n",
              "      --fill-color: #D2E3FC;\n",
              "      --hover-bg-color: #434B5C;\n",
              "      --hover-fill-color: #FFFFFF;\n",
              "      --disabled-bg-color: #3B4455;\n",
              "      --disabled-fill-color: #666;\n",
              "  }\n",
              "\n",
              "  .colab-df-quickchart {\n",
              "    background-color: var(--bg-color);\n",
              "    border: none;\n",
              "    border-radius: 50%;\n",
              "    cursor: pointer;\n",
              "    display: none;\n",
              "    fill: var(--fill-color);\n",
              "    height: 32px;\n",
              "    padding: 0;\n",
              "    width: 32px;\n",
              "  }\n",
              "\n",
              "  .colab-df-quickchart:hover {\n",
              "    background-color: var(--hover-bg-color);\n",
              "    box-shadow: 0 1px 2px rgba(60, 64, 67, 0.3), 0 1px 3px 1px rgba(60, 64, 67, 0.15);\n",
              "    fill: var(--button-hover-fill-color);\n",
              "  }\n",
              "\n",
              "  .colab-df-quickchart-complete:disabled,\n",
              "  .colab-df-quickchart-complete:disabled:hover {\n",
              "    background-color: var(--disabled-bg-color);\n",
              "    fill: var(--disabled-fill-color);\n",
              "    box-shadow: none;\n",
              "  }\n",
              "\n",
              "  .colab-df-spinner {\n",
              "    border: 2px solid var(--fill-color);\n",
              "    border-color: transparent;\n",
              "    border-bottom-color: var(--fill-color);\n",
              "    animation:\n",
              "      spin 1s steps(1) infinite;\n",
              "  }\n",
              "\n",
              "  @keyframes spin {\n",
              "    0% {\n",
              "      border-color: transparent;\n",
              "      border-bottom-color: var(--fill-color);\n",
              "      border-left-color: var(--fill-color);\n",
              "    }\n",
              "    20% {\n",
              "      border-color: transparent;\n",
              "      border-left-color: var(--fill-color);\n",
              "      border-top-color: var(--fill-color);\n",
              "    }\n",
              "    30% {\n",
              "      border-color: transparent;\n",
              "      border-left-color: var(--fill-color);\n",
              "      border-top-color: var(--fill-color);\n",
              "      border-right-color: var(--fill-color);\n",
              "    }\n",
              "    40% {\n",
              "      border-color: transparent;\n",
              "      border-right-color: var(--fill-color);\n",
              "      border-top-color: var(--fill-color);\n",
              "    }\n",
              "    60% {\n",
              "      border-color: transparent;\n",
              "      border-right-color: var(--fill-color);\n",
              "    }\n",
              "    80% {\n",
              "      border-color: transparent;\n",
              "      border-right-color: var(--fill-color);\n",
              "      border-bottom-color: var(--fill-color);\n",
              "    }\n",
              "    90% {\n",
              "      border-color: transparent;\n",
              "      border-bottom-color: var(--fill-color);\n",
              "    }\n",
              "  }\n",
              "</style>\n",
              "\n",
              "  <script>\n",
              "    async function quickchart(key) {\n",
              "      const quickchartButtonEl =\n",
              "        document.querySelector('#' + key + ' button');\n",
              "      quickchartButtonEl.disabled = true;  // To prevent multiple clicks.\n",
              "      quickchartButtonEl.classList.add('colab-df-spinner');\n",
              "      try {\n",
              "        const charts = await google.colab.kernel.invokeFunction(\n",
              "            'suggestCharts', [key], {});\n",
              "      } catch (error) {\n",
              "        console.error('Error during call to suggestCharts:', error);\n",
              "      }\n",
              "      quickchartButtonEl.classList.remove('colab-df-spinner');\n",
              "      quickchartButtonEl.classList.add('colab-df-quickchart-complete');\n",
              "    }\n",
              "    (() => {\n",
              "      let quickchartButtonEl =\n",
              "        document.querySelector('#df-87c7d81a-bce8-4f5c-9380-a01531ad517c button');\n",
              "      quickchartButtonEl.style.display =\n",
              "        google.colab.kernel.accessAllowed ? 'block' : 'none';\n",
              "    })();\n",
              "  </script>\n",
              "</div>\n",
              "\n",
              "    </div>\n",
              "  </div>\n"
            ],
            "application/vnd.google.colaboratory.intrinsic+json": {
              "type": "dataframe",
              "summary": "{\n  \"name\": \"data\",\n  \"rows\": 8,\n  \"fields\": [\n    {\n      \"column\": \" ID\",\n      \"properties\": {\n        \"dtype\": \"number\",\n        \"std\": 757206.5555910657,\n        \"min\": 14000.0,\n        \"max\": 2207193.0,\n        \"num_unique_values\": 8,\n        \"samples\": [\n          1266522.081357143,\n          1310814.0,\n          14000.0\n        ],\n        \"semantic_type\": \"\",\n        \"description\": \"\"\n      }\n    },\n    {\n      \"column\": \"Resolution time(in days)\",\n      \"properties\": {\n        \"dtype\": \"number\",\n        \"std\": 4935.832725217453,\n        \"min\": -1.0,\n        \"max\": 14000.0,\n        \"num_unique_values\": 7,\n        \"samples\": [\n          14000.0,\n          2.006,\n          2.0\n        ],\n        \"semantic_type\": \"\",\n        \"description\": \"\"\n      }\n    },\n    {\n      \"column\": \"Year\",\n      \"properties\": {\n        \"dtype\": \"number\",\n        \"std\": 4395.969554809144,\n        \"min\": 1.0511184614016191,\n        \"max\": 14000.0,\n        \"num_unique_values\": 7,\n        \"samples\": [\n          14000.0,\n          2014.6565714285714,\n          2015.0\n        ],\n        \"semantic_type\": \"\",\n        \"description\": \"\"\n      }\n    }\n  ]\n}"
            }
          },
          "metadata": {},
          "execution_count": 9
        }
      ]
    },
    {
      "cell_type": "markdown",
      "source": [
        "# **5. Data Preprocessing**"
      ],
      "metadata": {
        "id": "cpgHfgnSK3ip"
      }
    },
    {
      "cell_type": "markdown",
      "source": [
        "Pada tahap ini, data preprocessing adalah langkah penting untuk memastikan kualitas data sebelum digunakan dalam model machine learning. Data mentah sering kali mengandung nilai kosong, duplikasi, atau rentang nilai yang tidak konsisten, yang dapat memengaruhi kinerja model. Oleh karena itu, proses ini bertujuan untuk membersihkan dan mempersiapkan data agar analisis berjalan optimal.\n",
        "\n",
        "Berikut adalah tahapan-tahapan yang bisa dilakukan, tetapi **tidak terbatas** pada:\n",
        "1. Menghapus atau Menangani Data Kosong (Missing Values)\n",
        "2. Menghapus Data Duplikat\n",
        "3. Normalisasi atau Standarisasi Fitur\n",
        "4. Deteksi dan Penanganan Outlier\n",
        "5. Encoding Data Kategorikal\n",
        "6. Binning (Pengelompokan Data)\n",
        "\n",
        "Cukup sesuaikan dengan karakteristik data yang kamu gunakan yah."
      ],
      "metadata": {
        "id": "COf8KUPXLg5r"
      }
    },
    {
      "cell_type": "markdown",
      "source": [
        "Drop Missing Values"
      ],
      "metadata": {
        "id": "R6FTm7RPqfTt"
      }
    },
    {
      "cell_type": "code",
      "source": [
        "data = data.dropna()"
      ],
      "metadata": {
        "id": "sBIiByvzkffe"
      },
      "execution_count": 10,
      "outputs": []
    },
    {
      "cell_type": "markdown",
      "source": [
        "Choosing Relevant Column"
      ],
      "metadata": {
        "id": "9gve2E5BqhsB"
      }
    },
    {
      "cell_type": "code",
      "source": [
        "selected_features = [\"Product\", \"Issue\", \"Company\", \"State\", \"Consumer disputed?\"]\n",
        "data = data[selected_features]"
      ],
      "metadata": {
        "id": "WzBGjcbQM7N8"
      },
      "execution_count": 11,
      "outputs": []
    },
    {
      "cell_type": "markdown",
      "source": [
        "Encode Categorical Column"
      ],
      "metadata": {
        "id": "bZnxrPJaqlKH"
      }
    },
    {
      "cell_type": "code",
      "source": [
        "label_encoders = {}\n",
        "encoded_data = data.copy()\n",
        "for col in data.columns:\n",
        "    le = LabelEncoder()\n",
        "    encoded_data[col] = le.fit_transform(encoded_data[col])\n",
        "    label_encoders[col] = le"
      ],
      "metadata": {
        "id": "CjXx7nIfjjN3"
      },
      "execution_count": 12,
      "outputs": []
    },
    {
      "cell_type": "markdown",
      "source": [
        "Standardize"
      ],
      "metadata": {
        "id": "0aVoG9Xcq1m9"
      }
    },
    {
      "cell_type": "code",
      "source": [
        "scaler = MinMaxScaler()\n",
        "data_scaled = scaler.fit_transform(encoded_data)"
      ],
      "metadata": {
        "id": "fjaFUK7ojqGb"
      },
      "execution_count": 13,
      "outputs": []
    },
    {
      "cell_type": "code",
      "source": [
        "plt.figure(figsize=(12, 6))\n",
        "sns.boxplot(data=encoded_data)\n",
        "plt.title(\"Boxplot of Features\")\n",
        "plt.xticks(rotation=45)\n",
        "plt.show()"
      ],
      "metadata": {
        "colab": {
          "base_uri": "https://localhost:8080/",
          "height": 641
        },
        "id": "ASqgX0Z7qOyp",
        "outputId": "e557e3e1-36b3-4bae-8052-6613701a665b"
      },
      "execution_count": 18,
      "outputs": [
        {
          "output_type": "display_data",
          "data": {
            "text/plain": [
              "<Figure size 1200x600 with 1 Axes>"
            ],
            "image/png": "[encoded data removed]"
          },
          "metadata": {}
        }
      ]
    },
    {
      "cell_type": "code",
      "source": [
        "z_scores = np.abs(zscore(data_scaled))\n",
        "data_filtered = data_scaled[(z_scores < 3).all(axis=1)]"
      ],
      "metadata": {
        "id": "8hAEZg6ov2vP"
      },
      "execution_count": 15,
      "outputs": []
    },
    {
      "cell_type": "code",
      "source": [
        "plt.figure(figsize=(12, 6))\n",
        "encoded_data.hist(bins=20, figsize=(12, 8))\n",
        "plt.suptitle(\"Feature Distributions\", fontsize=16)\n",
        "plt.show()"
      ],
      "metadata": {
        "colab": {
          "base_uri": "https://localhost:8080/",
          "height": 773
        },
        "id": "9pVf7Z7hlijF",
        "outputId": "4c9a7140-524e-4f21-9bfa-a91146039cb4"
      },
      "execution_count": 17,
      "outputs": [
        {
          "output_type": "display_data",
          "data": {
            "text/plain": [
              "<Figure size 1200x600 with 0 Axes>"
            ]
          },
          "metadata": {}
        },
        {
          "output_type": "display_data",
          "data": {
            "text/plain": [
              "<Figure size 1200x800 with 6 Axes>"
            ],
            "image/png": "[encoded data removed]"
          },
          "metadata": {}
        }
      ]
    },
    {
      "cell_type": "code",
      "source": [
        "plt.figure(figsize=(10, 6))\n",
        "sns.heatmap(pd.DataFrame(data_scaled, columns=data.columns).corr(), annot=True, cmap=\"coolwarm\", fmt=\".2f\")\n",
        "plt.title(\"Feature Correlation Heatmap\")\n",
        "plt.show()"
      ],
      "metadata": {
        "colab": {
          "base_uri": "https://localhost:8080/",
          "height": 546
        },
        "id": "K3H3a-esjUCx",
        "outputId": "86b5b776-9e4b-47a2-ebac-3f5a17e241f4"
      },
      "execution_count": 19,
      "outputs": [
        {
          "output_type": "display_data",
          "data": {
            "text/plain": [
              "<Figure size 1000x600 with 2 Axes>"
            ],
            "image/png": "[encoded data removed]"
          },
          "metadata": {}
        }
      ]
    },
    {
      "cell_type": "markdown",
      "source": [
        "# **6. Pembangunan Model Clustering**"
      ],
      "metadata": {
        "id": "BR73dCnrLEiq"
      }
    },
    {
      "cell_type": "markdown",
      "source": [
        "## **a. Pembangunan Model Clustering**"
      ],
      "metadata": {
        "id": "Fkd_QHXWMBDr"
      }
    },
    {
      "cell_type": "markdown",
      "source": [
        "Pada tahap ini, Anda membangun model clustering dengan memilih algoritma yang sesuai untuk mengelompokkan data berdasarkan kesamaan. Berikut adalah **rekomendasi** tahapannya.\n",
        "1. Pilih algoritma clustering yang sesuai.\n",
        "2. Latih model dengan data menggunakan algoritma tersebut."
      ],
      "metadata": {
        "id": "Kn6Y2qbqMVLP"
      }
    },
    {
      "cell_type": "code",
      "source": [
        "k_values = range(2, 10)\n",
        "silhouette_scores = {}\n",
        "models = {}\n",
        "\n",
        "for k in k_values:\n",
        "    kmeans = KMeans(n_clusters=k, random_state=42, n_init=10)\n",
        "    labels = kmeans.fit_predict(data_scaled)\n",
        "    score = silhouette_score(data_scaled, labels)\n",
        "    silhouette_scores[k] = score\n",
        "    models[k] = kmeans"
      ],
      "metadata": {
        "id": "hgYvwWOzM93L"
      },
      "execution_count": 20,
      "outputs": []
    },
    {
      "cell_type": "markdown",
      "source": [
        "## **b. Evaluasi Model Clustering**"
      ],
      "metadata": {
        "id": "zsGVwzPKMEvn"
      }
    },
    {
      "cell_type": "markdown",
      "source": [
        "Untuk menentukan jumlah cluster yang optimal dalam model clustering, Anda dapat menggunakan metode Elbow atau Silhouette Score.\n",
        "\n",
        "Metode ini membantu kita menemukan jumlah cluster yang memberikan pemisahan terbaik antar kelompok data, sehingga model yang dibangun dapat lebih efektif. Berikut adalah **rekomendasi** tahapannya.\n",
        "1. Gunakan Silhouette Score dan Elbow Method untuk menentukan jumlah cluster optimal.\n",
        "2. Hitung Silhouette Score sebagai ukuran kualitas cluster."
      ],
      "metadata": {
        "id": "qk63ew39MeBf"
      }
    },
    {
      "cell_type": "code",
      "source": [
        "optimal_k = max(silhouette_scores, key=silhouette_scores.get)\n",
        "kmeans = models[optimal_k]\n",
        "data[\"Cluster\"] = kmeans.labels_"
      ],
      "metadata": {
        "id": "HdTA7V39ql8c"
      },
      "execution_count": 21,
      "outputs": []
    },
    {
      "cell_type": "code",
      "source": [
        "print(f\"Optimal number of clusters: {optimal_k}\")\n",
        "print(f\"Silhouette Score: {silhouette_scores[optimal_k]:.2f}\")"
      ],
      "metadata": {
        "colab": {
          "base_uri": "https://localhost:8080/"
        },
        "id": "sN9lOwjvrtX2",
        "outputId": "f2710e09-7a71-4484-853b-d3fef64975e0"
      },
      "execution_count": 22,
      "outputs": [
        {
          "output_type": "stream",
          "name": "stdout",
          "text": [
            "Optimal number of clusters: 2\n",
            "Silhouette Score: 0.41\n"
          ]
        }
      ]
    },
    {
      "cell_type": "markdown",
      "source": [
        "## **c. Feature Selection (Opsional)**"
      ],
      "metadata": {
        "id": "vWZp5vKNQddd"
      }
    },
    {
      "cell_type": "markdown",
      "source": [
        "Silakan lakukan feature selection jika Anda membutuhkan optimasi model clustering. Jika Anda menerapkan proses ini, silakan lakukan pemodelan dan evaluasi kembali menggunakan kolom-kolom hasil feature selection. Terakhir, bandingkan hasil performa model sebelum dan sesudah menerapkan feature selection."
      ],
      "metadata": {
        "id": "QIHKgE07Q4c0"
      }
    },
    {
      "cell_type": "code",
      "source": [
        "initial_kmeans = KMeans(n_clusters=4, random_state=42, n_init=10)\n",
        "initial_labels = initial_kmeans.fit_predict(data_scaled)"
      ],
      "metadata": {
        "id": "Vbstha0PRUpI"
      },
      "execution_count": 23,
      "outputs": []
    },
    {
      "cell_type": "code",
      "source": [
        "k_values_for_features = [2, 3, 4, 5]\n",
        "feature_selection_scores = {}"
      ],
      "metadata": {
        "id": "OHEsNbsX4e-v"
      },
      "execution_count": 24,
      "outputs": []
    },
    {
      "cell_type": "code",
      "source": [
        "for k in k_values_for_features:\n",
        "    selector = SelectKBest(score_func=mutual_info_classif, k=k)\n",
        "    data_selected = selector.fit_transform(data_scaled, initial_labels)\n",
        "\n",
        "    kmeans = KMeans(n_clusters=8, random_state=42, n_init=10)\n",
        "    labels = kmeans.fit_predict(data_selected)\n",
        "    score = silhouette_score(data_selected, labels)\n",
        "\n",
        "    feature_selection_scores[k] = score\n",
        "    print(f\"SelectKBest with k={k} features - Silhouette Score: {score:.4f}\")"
      ],
      "metadata": {
        "colab": {
          "base_uri": "https://localhost:8080/"
        },
        "id": "hv-em0A_47Pr",
        "outputId": "42ba9be3-9104-4304-d05c-4beb8d278fc4"
      },
      "execution_count": 25,
      "outputs": [
        {
          "output_type": "stream",
          "name": "stdout",
          "text": [
            "SelectKBest with k=2 features - Silhouette Score: 0.6880\n",
            "SelectKBest with k=3 features - Silhouette Score: 0.4542\n",
            "SelectKBest with k=4 features - Silhouette Score: 0.3195\n",
            "SelectKBest with k=5 features - Silhouette Score: 0.2422\n"
          ]
        }
      ]
    },
    {
      "cell_type": "code",
      "source": [
        "optimal_k_features = max(feature_selection_scores, key=feature_selection_scores.get)\n",
        "print(f\"Optimal number of features: {optimal_k_features} with score {feature_selection_scores[optimal_k_features]:.4f}\")"
      ],
      "metadata": {
        "colab": {
          "base_uri": "https://localhost:8080/"
        },
        "id": "ESm6Azce48zG",
        "outputId": "22e70471-a1f2-49db-b7a1-8814d35354e0"
      },
      "execution_count": 26,
      "outputs": [
        {
          "output_type": "stream",
          "name": "stdout",
          "text": [
            "Optimal number of features: 2 with score 0.6880\n"
          ]
        }
      ]
    },
    {
      "cell_type": "code",
      "source": [
        "best_selector = SelectKBest(score_func=mutual_info_classif, k=optimal_k_features)\n",
        "data_selected = best_selector.fit_transform(data_scaled, initial_labels)"
      ],
      "metadata": {
        "id": "_FY5--QF4i_F"
      },
      "execution_count": 27,
      "outputs": []
    },
    {
      "cell_type": "code",
      "source": [
        "selected_indices = best_selector.get_support(indices=True)\n",
        "selected_feature_names = [encoded_data.columns[i] for i in selected_indices]\n",
        "print(f\"Selected features: {selected_feature_names}\")"
      ],
      "metadata": {
        "colab": {
          "base_uri": "https://localhost:8080/"
        },
        "id": "A5YVs-U84ke-",
        "outputId": "c527d819-b686-4756-a4db-759e18436c14"
      },
      "execution_count": 28,
      "outputs": [
        {
          "output_type": "stream",
          "name": "stdout",
          "text": [
            "Selected features: ['Company', 'Consumer disputed?']\n"
          ]
        }
      ]
    },
    {
      "cell_type": "code",
      "source": [
        "cluster_range = range(2, 21)\n",
        "silhouette_scores = {}\n",
        "models = {}\n",
        "\n",
        "for k in cluster_range:\n",
        "    kmeans = KMeans(n_clusters=k, random_state=42, n_init=10, max_iter=300)\n",
        "    labels = kmeans.fit_predict(data_selected)\n",
        "    sil_score = silhouette_score(data_selected, labels)\n",
        "\n",
        "    silhouette_scores[k] = sil_score\n",
        "    models[k] = kmeans\n",
        "\n",
        "    print(f\"k={k}: Silhouette={sil_score:.4f}\")"
      ],
      "metadata": {
        "colab": {
          "base_uri": "https://localhost:8080/"
        },
        "id": "Qh49ZktZtcL3",
        "outputId": "7682b144-6586-44c0-ada4-f02301279815"
      },
      "execution_count": 29,
      "outputs": [
        {
          "output_type": "stream",
          "name": "stdout",
          "text": [
            "k=2: Silhouette=0.6801\n",
            "k=3: Silhouette=0.6786\n",
            "k=4: Silhouette=0.6790\n",
            "k=5: Silhouette=0.6605\n",
            "k=6: Silhouette=0.6632\n",
            "k=7: Silhouette=0.6604\n",
            "k=8: Silhouette=0.6880\n",
            "k=9: Silhouette=0.6888\n",
            "k=10: Silhouette=0.6762\n",
            "k=11: Silhouette=0.6744\n",
            "k=12: Silhouette=0.6838\n",
            "k=13: Silhouette=0.7010\n",
            "k=14: Silhouette=0.6787\n",
            "k=15: Silhouette=0.6957\n",
            "k=16: Silhouette=0.6949\n",
            "k=17: Silhouette=0.6987\n",
            "k=18: Silhouette=0.6981\n",
            "k=19: Silhouette=0.7011\n",
            "k=20: Silhouette=0.7132\n"
          ]
        }
      ]
    },
    {
      "cell_type": "code",
      "source": [
        "optimal_k_clusters = max(silhouette_scores, key=silhouette_scores.get)\n",
        "final_kmeans = models[optimal_k_clusters]\n",
        "final_labels = final_kmeans.labels_"
      ],
      "metadata": {
        "id": "CsAcRTBvxyRS"
      },
      "execution_count": 30,
      "outputs": []
    },
    {
      "cell_type": "code",
      "source": [
        "print(f\"\\nOptimal number of clusters: {optimal_k_clusters}\")\n",
        "print(f\"Final Silhouette Score: {silhouette_scores[optimal_k_clusters]:.4f}\")"
      ],
      "metadata": {
        "colab": {
          "base_uri": "https://localhost:8080/"
        },
        "id": "tBCp6Ohwtj-y",
        "outputId": "ef9ee957-c84d-43fc-8f4e-94d834da87c7"
      },
      "execution_count": 31,
      "outputs": [
        {
          "output_type": "stream",
          "name": "stdout",
          "text": [
            "\n",
            "Optimal number of clusters: 20\n",
            "Final Silhouette Score: 0.7132\n"
          ]
        }
      ]
    },
    {
      "cell_type": "markdown",
      "source": [
        "## **d. Visualisasi Hasil Clustering**"
      ],
      "metadata": {
        "id": "nn01TKkLLRiF"
      }
    },
    {
      "cell_type": "markdown",
      "source": [
        "Setelah model clustering dilatih dan jumlah cluster optimal ditentukan, langkah selanjutnya adalah menampilkan hasil clustering melalui visualisasi.\n",
        "\n",
        "Berikut adalah **rekomendasi** tahapannya.\n",
        "1. Tampilkan hasil clustering dalam bentuk visualisasi, seperti grafik scatter plot atau 2D PCA projection."
      ],
      "metadata": {
        "id": "gaz0fnhhMkRI"
      }
    },
    {
      "cell_type": "code",
      "source": [
        "pca_all = PCA(n_components=2)\n",
        "data_pca_all = pca_all.fit_transform(data_scaled)\n",
        "\n",
        "plt.figure(figsize=(12, 8))\n",
        "scatter = sns.scatterplot(\n",
        "    x=data_pca_all[:, 0],\n",
        "    y=data_pca_all[:, 1],\n",
        "    hue=final_labels,  # Use your optimized cluster labels\n",
        "    palette=\"viridis\",\n",
        "    alpha=0.7,\n",
        "    s=50  # Slightly larger point size\n",
        ")\n",
        "plt.xlabel(f\"PCA Component 1 (Variance: {pca_all.explained_variance_ratio_[0]:.2%})\")\n",
        "plt.ylabel(f\"PCA Component 2 (Variance: {pca_all.explained_variance_ratio_[1]:.2%})\")\n",
        "plt.title(\"Clustering Results with PCA Projection (All Features)\")\n",
        "legend = plt.legend(title=\"Cluster\", bbox_to_anchor=(1.05, 1), loc='upper left')\n",
        "for t in legend.texts:\n",
        "    t.set_text(f\"Cluster {t.get_text()}\")\n",
        "\n",
        "plt.tight_layout()\n",
        "plt.savefig('pca_all_features.png', dpi=300)\n",
        "plt.show()"
      ],
      "metadata": {
        "id": "lfOjVvfYM-4v",
        "colab": {
          "base_uri": "https://localhost:8080/",
          "height": 807
        },
        "outputId": "f884ce75-410f-4966-b7fe-b7179488e8e3"
      },
      "execution_count": 32,
      "outputs": [
        {
          "output_type": "display_data",
          "data": {
            "text/plain": [
              "<Figure size 1200x800 with 1 Axes>"
            ],
            "image/png": "[encoded data removed]"
          },
          "metadata": {}
        }
      ]
    },
    {
      "cell_type": "markdown",
      "source": [
        "## **e. Analisis dan Interpretasi Hasil Cluster**"
      ],
      "metadata": {
        "id": "X4eydPWJLH4I"
      }
    },
    {
      "cell_type": "markdown",
      "source": [
        "### Interpretasi Target"
      ],
      "metadata": {
        "id": "mxTeTkTkA7o6"
      }
    },
    {
      "cell_type": "markdown",
      "source": [
        "**Tutorial: Melakukan Inverse Transform pada Data Target Setelah Clustering**\n",
        "\n",
        "Setelah melakukan clustering dengan model **KMeans**, kita perlu mengembalikan data yang telah diubah (normalisasi, standarisasi, atau label encoding) ke bentuk aslinya. Berikut adalah langkah-langkahnya.\n",
        "\n",
        "---\n",
        "\n",
        "**1. Tambahkan Hasil Label Cluster ke DataFrame**\n",
        "Setelah mendapatkan hasil clustering, kita tambahkan label cluster ke dalam DataFrame yang telah dinormalisasi.\n",
        "\n",
        "```python\n",
        "df_normalized['Cluster'] = model_kmeans.labels_\n",
        "```\n",
        "\n",
        "Lakukan Inverse Transform pada feature yang sudah dilakukan Labelisasi dan Standararisasi. Berikut code untuk melakukannya:\n",
        "label_encoder.inverse_transform(X_Selected[['Fitur']])\n",
        "\n",
        "Lalu masukkan ke dalam kolom dataset asli atau membuat dataframe baru\n",
        "```python\n",
        "df_normalized['Fitur'] = label_encoder.inverse_transform(df_normalized[['Fitur']])\n",
        "```\n",
        "Masukkan Data yang Sudah Di-Inverse ke dalam Dataset Asli atau Buat DataFrame Baru\n",
        "```python\n",
        "df_original['Fitur'] = df_normalized['Fitur']\n",
        "```"
      ],
      "metadata": {
        "id": "NJDsBARmIsbW"
      }
    },
    {
      "cell_type": "markdown",
      "source": [
        "### Inverse Data Jika Melakukan Normalisasi/Standardisasi"
      ],
      "metadata": {
        "id": "vITTtdoT_fIF"
      }
    },
    {
      "cell_type": "markdown",
      "source": [
        "Inverse Transform untuk Data yang Distandarisasi\n",
        "Jika data numerik telah dinormalisasi menggunakan StandardScaler atau MinMaxScaler, kita bisa mengembalikannya ke skala asli:\n",
        "```python\n",
        "df_normalized[['Fitur_Numerik']] = scaler.inverse_transform(df_normalized[['Fitur_Numerik']])\n",
        "```"
      ],
      "metadata": {
        "id": "bUGkyAvnKRrk"
      }
    },
    {
      "cell_type": "code",
      "source": [
        "decoded_data = encoded_data.copy()\n",
        "for col in label_encoders:\n",
        "    decoded_data[col] = label_encoders[col].inverse_transform(encoded_data[col])\n",
        "\n",
        "print(decoded_data.head())"
      ],
      "metadata": {
        "colab": {
          "base_uri": "https://localhost:8080/"
        },
        "id": "eIjfOWvqe3rn",
        "outputId": "0ba2e1cd-b14e-4680-e0f2-934a2354bb33"
      },
      "execution_count": 33,
      "outputs": [
        {
          "output_type": "stream",
          "name": "stdout",
          "text": [
            "            Product                                     Issue  \\\n",
            "0          Mortgage  Loan servicing, payments, escrow account   \n",
            "1          Mortgage  Loan servicing, payments, escrow account   \n",
            "2   Debt collection  Loan modification,collection,foreclosure   \n",
            "3       Credit card                         Billing statement   \n",
            "4  Credit reporting  Unable to get credit report/credit score   \n",
            "\n",
            "                            Company State Consumer disputed?  \n",
            "0                      PHH Mortgage    FL                 No  \n",
            "1                             Ocwen    NC                 No  \n",
            "2    Southwest Credit Systems, L.P.    MO                 No  \n",
            "3  Continental Finance Company, LLC    WA                 No  \n",
            "4                          Experian    VA                 No  \n"
          ]
        }
      ]
    },
    {
      "cell_type": "code",
      "source": [
        "data_with_clusters = decoded_data.copy()\n",
        "data_with_clusters[\"Cluster\"] = final_labels"
      ],
      "metadata": {
        "id": "8zHBvnkFfrbT"
      },
      "execution_count": 34,
      "outputs": []
    },
    {
      "cell_type": "markdown",
      "source": [
        "Setelah melakukan clustering, langkah selanjutnya adalah menganalisis karakteristik dari masing-masing cluster berdasarkan fitur yang tersedia.\n",
        "\n",
        "Berikut adalah **rekomendasi** tahapannya.\n",
        "1. Analisis karakteristik tiap cluster berdasarkan fitur yang tersedia (misalnya, distribusi nilai dalam cluster).\n",
        "2. Berikan interpretasi: Apakah hasil clustering sesuai dengan ekspektasi dan logika bisnis? Apakah ada pola tertentu yang bisa dimanfaatkan?"
      ],
      "metadata": {
        "id": "SENfLnfRMpC-"
      }
    },
    {
      "cell_type": "code",
      "source": [
        "cluster_counts = Counter(final_labels)\n",
        "for cluster_id, count in sorted(cluster_counts.items()):\n",
        "    print(f\"Cluster {cluster_id}: {count} instances ({count/len(final_labels)*100:.2f}%)\")"
      ],
      "metadata": {
        "colab": {
          "base_uri": "https://localhost:8080/"
        },
        "id": "HDxocyijAS3o",
        "outputId": "9aa7c6d6-ebf6-4c9f-cb70-73760fb7c089"
      },
      "execution_count": 35,
      "outputs": [
        {
          "output_type": "stream",
          "name": "stdout",
          "text": [
            "Cluster 0: 1766 instances (12.76%)\n",
            "Cluster 1: 398 instances (2.88%)\n",
            "Cluster 2: 722 instances (5.22%)\n",
            "Cluster 3: 1401 instances (10.12%)\n",
            "Cluster 4: 523 instances (3.78%)\n",
            "Cluster 5: 283 instances (2.04%)\n",
            "Cluster 6: 870 instances (6.28%)\n",
            "Cluster 7: 943 instances (6.81%)\n",
            "Cluster 8: 501 instances (3.62%)\n",
            "Cluster 9: 850 instances (6.14%)\n",
            "Cluster 10: 345 instances (2.49%)\n",
            "Cluster 11: 522 instances (3.77%)\n",
            "Cluster 12: 511 instances (3.69%)\n",
            "Cluster 13: 583 instances (4.21%)\n",
            "Cluster 14: 719 instances (5.19%)\n",
            "Cluster 15: 343 instances (2.48%)\n",
            "Cluster 16: 751 instances (5.43%)\n",
            "Cluster 17: 1225 instances (8.85%)\n",
            "Cluster 18: 202 instances (1.46%)\n",
            "Cluster 19: 385 instances (2.78%)\n"
          ]
        }
      ]
    },
    {
      "cell_type": "code",
      "source": [
        "cluster_stats = data_with_clusters.groupby('Cluster').agg(['count'])\n",
        "print(cluster_stats)"
      ],
      "metadata": {
        "id": "MFq0x-OzM_Wt",
        "colab": {
          "base_uri": "https://localhost:8080/"
        },
        "outputId": "aaa25833-8415-4b39-d247-8d407129c2ca"
      },
      "execution_count": 37,
      "outputs": [
        {
          "output_type": "stream",
          "name": "stdout",
          "text": [
            "        Product Issue Company State Consumer disputed?\n",
            "          count count   count count              count\n",
            "Cluster                                               \n",
            "0          1766  1766    1766  1766               1766\n",
            "1           398   398     398   398                398\n",
            "2           722   722     722   722                722\n",
            "3          1401  1401    1401  1401               1401\n",
            "4           523   523     523   523                523\n",
            "5           283   283     283   283                283\n",
            "6           870   870     870   870                870\n",
            "7           943   943     943   943                943\n",
            "8           501   501     501   501                501\n",
            "9           850   850     850   850                850\n",
            "10          345   345     345   345                345\n",
            "11          522   522     522   522                522\n",
            "12          511   511     511   511                511\n",
            "13          583   583     583   583                583\n",
            "14          719   719     719   719                719\n",
            "15          343   343     343   343                343\n",
            "16          751   751     751   751                751\n",
            "17         1225  1225    1225  1225               1225\n",
            "18          202   202     202   202                202\n",
            "19          385   385     385   385                385\n"
          ]
        }
      ]
    },
    {
      "cell_type": "code",
      "source": [
        "categorical_features = [\"Product\", \"Issue\", \"Company\", \"State\", \"Consumer disputed?\"]\n",
        "cluster_profiles = {}\n",
        "\n",
        "for cluster_id in sorted(cluster_counts.keys()):\n",
        "    cluster_data = data_with_clusters[data_with_clusters['Cluster'] == cluster_id]\n",
        "    profile = {}\n",
        "\n",
        "    for feature in categorical_features:\n",
        "        most_common = cluster_data[feature].value_counts().nlargest(3)\n",
        "        total = len(cluster_data)\n",
        "        profile[feature] = [(value, count, f\"{count/total*100:.2f}%\")\n",
        "                           for value, count in most_common.items()]\n",
        "\n",
        "    cluster_profiles[cluster_id] = profile"
      ],
      "metadata": {
        "id": "bDUwMEEf-lrP"
      },
      "execution_count": 38,
      "outputs": []
    },
    {
      "cell_type": "code",
      "source": [
        "for cluster_id, profile in cluster_profiles.items():\n",
        "    print(f\"\\nCluster {cluster_id} Profile (Size: {cluster_counts[cluster_id]}):\")\n",
        "    for feature, values in profile.items():\n",
        "        print(f\"  {feature}:\")\n",
        "        for value, count, percentage in values:\n",
        "            print(f\"    - {value}: {count} ({percentage})\")"
      ],
      "metadata": {
        "colab": {
          "base_uri": "https://localhost:8080/"
        },
        "id": "tQDxpv5bAlvz",
        "outputId": "fd4287a2-b933-4077-df0f-4a005f9219b8"
      },
      "execution_count": 39,
      "outputs": [
        {
          "output_type": "stream",
          "name": "stdout",
          "text": [
            "\n",
            "Cluster 0 Profile (Size: 1766):\n",
            "  Product:\n",
            "    - Credit reporting: 792 (44.85%)\n",
            "    - Debt collection: 431 (24.41%)\n",
            "    - Mortgage: 245 (13.87%)\n",
            "  Issue:\n",
            "    - Credit reporting company's investigation: 332 (18.80%)\n",
            "    - Unable to get credit report/credit score: 266 (15.06%)\n",
            "    - Loan servicing, payments, escrow account: 203 (11.49%)\n",
            "  Company:\n",
            "    - Equifax: 397 (22.48%)\n",
            "    - Experian: 396 (22.42%)\n",
            "    - Ditech Financial LLC: 196 (11.10%)\n",
            "  State:\n",
            "    - CA: 210 (11.89%)\n",
            "    - FL: 167 (9.46%)\n",
            "    - TX: 136 (7.70%)\n",
            "  Consumer disputed?:\n",
            "    - No: 1766 (100.00%)\n",
            "\n",
            "Cluster 1 Profile (Size: 398):\n",
            "  Product:\n",
            "    - Mortgage: 104 (26.13%)\n",
            "    - Bank account or service: 94 (23.62%)\n",
            "    - Credit card: 87 (21.86%)\n",
            "  Issue:\n",
            "    - Loan servicing, payments, escrow account: 70 (17.59%)\n",
            "    - Account opening, closing, or management: 40 (10.05%)\n",
            "    - Loan modification,collection,foreclosure: 26 (6.53%)\n",
            "  Company:\n",
            "    - JPMorgan Chase & Co.: 233 (58.54%)\n",
            "    - HSBC North America Holdings Inc.: 28 (7.04%)\n",
            "    - M&T Bank Corporation: 13 (3.27%)\n",
            "  State:\n",
            "    - CA: 70 (17.59%)\n",
            "    - NY: 45 (11.31%)\n",
            "    - FL: 42 (10.55%)\n",
            "  Consumer disputed?:\n",
            "    - Yes: 398 (100.00%)\n",
            "\n",
            "Cluster 2 Profile (Size: 722):\n",
            "  Product:\n",
            "    - Bank account or service: 207 (28.67%)\n",
            "    - Credit card: 202 (27.98%)\n",
            "    - Debt collection: 154 (21.33%)\n",
            "  Issue:\n",
            "    - Account opening, closing, or management: 75 (10.39%)\n",
            "    - Deposits and withdrawals: 62 (8.59%)\n",
            "    - Loan servicing, payments, escrow account: 61 (8.45%)\n",
            "  Company:\n",
            "    - Synchrony Financial: 236 (32.69%)\n",
            "    - TD Bank US Holding Company: 146 (20.22%)\n",
            "    - SunTrust Banks, Inc.: 92 (12.74%)\n",
            "  State:\n",
            "    - FL: 76 (10.53%)\n",
            "    - CA: 64 (8.86%)\n",
            "    - NY: 53 (7.34%)\n",
            "  Consumer disputed?:\n",
            "    - No: 722 (100.00%)\n",
            "\n",
            "Cluster 3 Profile (Size: 1401):\n",
            "  Product:\n",
            "    - Credit card: 575 (41.04%)\n",
            "    - Debt collection: 271 (19.34%)\n",
            "    - Bank account or service: 237 (16.92%)\n",
            "  Issue:\n",
            "    - Account opening, closing, or management: 141 (10.06%)\n",
            "    - Billing disputes: 108 (7.71%)\n",
            "    - Loan servicing, payments, escrow account: 105 (7.49%)\n",
            "  Company:\n",
            "    - Citibank: 605 (43.18%)\n",
            "    - Capital One: 383 (27.34%)\n",
            "    - Citizens Financial Group, Inc.: 70 (5.00%)\n",
            "  State:\n",
            "    - CA: 218 (15.56%)\n",
            "    - NY: 142 (10.14%)\n",
            "    - FL: 110 (7.85%)\n",
            "  Consumer disputed?:\n",
            "    - No: 1401 (100.00%)\n",
            "\n",
            "Cluster 4 Profile (Size: 523):\n",
            "  Product:\n",
            "    - Mortgage: 135 (25.81%)\n",
            "    - Credit card: 133 (25.43%)\n",
            "    - Bank account or service: 108 (20.65%)\n",
            "  Issue:\n",
            "    - Loan servicing, payments, escrow account: 87 (16.63%)\n",
            "    - Account opening, closing, or management: 49 (9.37%)\n",
            "    - Billing disputes: 44 (8.41%)\n",
            "  Company:\n",
            "    - Bank of America: 245 (46.85%)\n",
            "    - Amex: 58 (11.09%)\n",
            "    - AES/PHEAA: 26 (4.97%)\n",
            "  State:\n",
            "    - CA: 84 (16.06%)\n",
            "    - NY: 51 (9.75%)\n",
            "    - TX: 47 (8.99%)\n",
            "  Consumer disputed?:\n",
            "    - Yes: 523 (100.00%)\n",
            "\n",
            "Cluster 5 Profile (Size: 283):\n",
            "  Product:\n",
            "    - Credit reporting: 66 (23.32%)\n",
            "    - Bank account or service: 63 (22.26%)\n",
            "    - Credit card: 46 (16.25%)\n",
            "  Issue:\n",
            "    - Credit reporting company's investigation: 38 (13.43%)\n",
            "    - Account opening, closing, or management: 26 (9.19%)\n",
            "    - Loan modification,collection,foreclosure: 20 (7.07%)\n",
            "  Company:\n",
            "    - TransUnion Intermediate Holdings, Inc.: 66 (23.32%)\n",
            "    - Synchrony Financial: 44 (15.55%)\n",
            "    - TD Bank US Holding Company: 41 (14.49%)\n",
            "  State:\n",
            "    - FL: 38 (13.43%)\n",
            "    - CA: 29 (10.25%)\n",
            "    - TX: 23 (8.13%)\n",
            "  Consumer disputed?:\n",
            "    - Yes: 283 (100.00%)\n",
            "\n",
            "Cluster 6 Profile (Size: 870):\n",
            "  Product:\n",
            "    - Mortgage: 425 (48.85%)\n",
            "    - Debt collection: 231 (26.55%)\n",
            "    - Bank account or service: 109 (12.53%)\n",
            "  Issue:\n",
            "    - Loan servicing, payments, escrow account: 331 (38.05%)\n",
            "    - Communication tactics: 81 (9.31%)\n",
            "    - Loan modification,collection,foreclosure: 76 (8.74%)\n",
            "  Company:\n",
            "    - Ocwen: 310 (35.63%)\n",
            "    - PNC Bank N.A.: 159 (18.28%)\n",
            "    - Portfolio Recovery Associates, Inc.: 89 (10.23%)\n",
            "  State:\n",
            "    - CA: 104 (11.95%)\n",
            "    - FL: 68 (7.82%)\n",
            "    - TX: 66 (7.59%)\n",
            "  Consumer disputed?:\n",
            "    - No: 870 (100.00%)\n",
            "\n",
            "Cluster 7 Profile (Size: 943):\n",
            "  Product:\n",
            "    - Mortgage: 254 (26.94%)\n",
            "    - Bank account or service: 242 (25.66%)\n",
            "    - Credit card: 173 (18.35%)\n",
            "  Issue:\n",
            "    - Loan servicing, payments, escrow account: 173 (18.35%)\n",
            "    - Account opening, closing, or management: 90 (9.54%)\n",
            "    - Deposits and withdrawals: 73 (7.74%)\n",
            "  Company:\n",
            "    - JPMorgan Chase & Co.: 631 (66.91%)\n",
            "    - KeyCorp: 46 (4.88%)\n",
            "    - M&T Bank Corporation: 39 (4.14%)\n",
            "  State:\n",
            "    - CA: 139 (14.74%)\n",
            "    - NY: 115 (12.20%)\n",
            "    - FL: 87 (9.23%)\n",
            "  Consumer disputed?:\n",
            "    - No: 943 (100.00%)\n",
            "\n",
            "Cluster 8 Profile (Size: 501):\n",
            "  Product:\n",
            "    - Mortgage: 229 (45.71%)\n",
            "    - Debt collection: 121 (24.15%)\n",
            "    - Student loan: 76 (15.17%)\n",
            "  Issue:\n",
            "    - Loan servicing, payments, escrow account: 179 (35.73%)\n",
            "    - Loan modification,collection,foreclosure: 48 (9.58%)\n",
            "    - Dealing with my lender or servicer: 40 (7.98%)\n",
            "  Company:\n",
            "    - Ocwen: 126 (25.15%)\n",
            "    - Nationstar Mortgage: 82 (16.37%)\n",
            "    - Navient Solutions, Inc.: 75 (14.97%)\n",
            "  State:\n",
            "    - CA: 72 (14.37%)\n",
            "    - FL: 48 (9.58%)\n",
            "    - TX: 34 (6.79%)\n",
            "  Consumer disputed?:\n",
            "    - Yes: 501 (100.00%)\n",
            "\n",
            "Cluster 9 Profile (Size: 850):\n",
            "  Product:\n",
            "    - Bank account or service: 294 (34.59%)\n",
            "    - Mortgage: 280 (32.94%)\n",
            "    - Debt collection: 89 (10.47%)\n",
            "  Issue:\n",
            "    - Loan servicing, payments, escrow account: 171 (20.12%)\n",
            "    - Account opening, closing, or management: 111 (13.06%)\n",
            "    - Deposits and withdrawals: 96 (11.29%)\n",
            "  Company:\n",
            "    - Wells Fargo & Company: 717 (84.35%)\n",
            "    - Westlake Services, LLC: 14 (1.65%)\n",
            "    - Williams & Fudge, Inc: 9 (1.06%)\n",
            "  State:\n",
            "    - CA: 138 (16.24%)\n",
            "    - FL: 90 (10.59%)\n",
            "    - TX: 73 (8.59%)\n",
            "  Consumer disputed?:\n",
            "    - No: 850 (100.00%)\n",
            "\n",
            "Cluster 10 Profile (Size: 345):\n",
            "  Product:\n",
            "    - Credit card: 142 (41.16%)\n",
            "    - Debt collection: 71 (20.58%)\n",
            "    - Mortgage: 54 (15.65%)\n",
            "  Issue:\n",
            "    - Billing disputes: 34 (9.86%)\n",
            "    - Loan servicing, payments, escrow account: 32 (9.28%)\n",
            "    - Loan modification,collection,foreclosure: 28 (8.12%)\n",
            "  Company:\n",
            "    - Citibank: 150 (43.48%)\n",
            "    - Capital One: 72 (20.87%)\n",
            "    - Citizens Financial Group, Inc.: 20 (5.80%)\n",
            "  State:\n",
            "    - CA: 41 (11.88%)\n",
            "    - TX: 34 (9.86%)\n",
            "    - NY: 34 (9.86%)\n",
            "  Consumer disputed?:\n",
            "    - Yes: 345 (100.00%)\n",
            "\n",
            "Cluster 11 Profile (Size: 522):\n",
            "  Product:\n",
            "    - Debt collection: 148 (28.35%)\n",
            "    - Student loan: 110 (21.07%)\n",
            "    - Credit card: 101 (19.35%)\n",
            "  Issue:\n",
            "    - Dealing with my lender or servicer: 54 (10.34%)\n",
            "    - Communication tactics: 49 (9.39%)\n",
            "    - Loan modification,collection,foreclosure: 44 (8.43%)\n",
            "  Company:\n",
            "    - Amex: 133 (25.48%)\n",
            "    - AES/PHEAA: 83 (15.90%)\n",
            "    - Ally Financial Inc.: 78 (14.94%)\n",
            "  State:\n",
            "    - CA: 75 (14.37%)\n",
            "    - FL: 42 (8.05%)\n",
            "    - TX: 42 (8.05%)\n",
            "  Consumer disputed?:\n",
            "    - No: 522 (100.00%)\n",
            "\n",
            "Cluster 12 Profile (Size: 511):\n",
            "  Product:\n",
            "    - Credit reporting: 196 (38.36%)\n",
            "    - Debt collection: 117 (22.90%)\n",
            "    - Mortgage: 87 (17.03%)\n",
            "  Issue:\n",
            "    - Credit reporting company's investigation: 111 (21.72%)\n",
            "    - Loan servicing, payments, escrow account: 71 (13.89%)\n",
            "    - Loan modification,collection,foreclosure: 51 (9.98%)\n",
            "  Company:\n",
            "    - Equifax: 133 (26.03%)\n",
            "    - Experian: 58 (11.35%)\n",
            "    - Ditech Financial LLC: 56 (10.96%)\n",
            "  State:\n",
            "    - CA: 78 (15.26%)\n",
            "    - FL: 57 (11.15%)\n",
            "    - TX: 41 (8.02%)\n",
            "  Consumer disputed?:\n",
            "    - Yes: 511 (100.00%)\n",
            "\n",
            "Cluster 13 Profile (Size: 583):\n",
            "  Product:\n",
            "    - Mortgage: 244 (41.85%)\n",
            "    - Debt collection: 140 (24.01%)\n",
            "    - Bank account or service: 83 (14.24%)\n",
            "  Issue:\n",
            "    - Loan servicing, payments, escrow account: 173 (29.67%)\n",
            "    - Loan modification,collection,foreclosure: 51 (8.75%)\n",
            "    - Application, originator, mortgage broker: 42 (7.20%)\n",
            "  Company:\n",
            "    - Regions Financial Corporation: 68 (11.66%)\n",
            "    - Seterus, Inc.: 58 (9.95%)\n",
            "    - Santander Consumer USA Holdings Inc: 55 (9.43%)\n",
            "  State:\n",
            "    - FL: 68 (11.66%)\n",
            "    - CA: 67 (11.49%)\n",
            "    - NY: 39 (6.69%)\n",
            "  Consumer disputed?:\n",
            "    - No: 583 (100.00%)\n",
            "\n",
            "Cluster 14 Profile (Size: 719):\n",
            "  Product:\n",
            "    - Credit reporting: 231 (32.13%)\n",
            "    - Bank account or service: 136 (18.92%)\n",
            "    - Debt collection: 90 (12.52%)\n",
            "  Issue:\n",
            "    - Credit reporting company's investigation: 88 (12.24%)\n",
            "    - Unable to get credit report/credit score: 74 (10.29%)\n",
            "    - Account opening, closing, or management: 52 (7.23%)\n",
            "  Company:\n",
            "    - U.S. Bancorp: 242 (33.66%)\n",
            "    - TransUnion Intermediate Holdings, Inc.: 231 (32.13%)\n",
            "    - USAA Savings: 69 (9.60%)\n",
            "  State:\n",
            "    - CA: 128 (17.80%)\n",
            "    - TX: 51 (7.09%)\n",
            "    - FL: 44 (6.12%)\n",
            "  Consumer disputed?:\n",
            "    - No: 719 (100.00%)\n",
            "\n",
            "Cluster 15 Profile (Size: 343):\n",
            "  Product:\n",
            "    - Bank account or service: 113 (32.94%)\n",
            "    - Mortgage: 111 (32.36%)\n",
            "    - Credit card: 47 (13.70%)\n",
            "  Issue:\n",
            "    - Account opening, closing, or management: 58 (16.91%)\n",
            "    - Loan servicing, payments, escrow account: 57 (16.62%)\n",
            "    - Application, originator, mortgage broker: 31 (9.04%)\n",
            "  Company:\n",
            "    - Wells Fargo & Company: 219 (63.85%)\n",
            "    - U.S. Bancorp: 63 (18.37%)\n",
            "    - USAA Savings: 17 (4.96%)\n",
            "  State:\n",
            "    - CA: 69 (20.12%)\n",
            "    - FL: 27 (7.87%)\n",
            "    - NV: 15 (4.37%)\n",
            "  Consumer disputed?:\n",
            "    - Yes: 343 (100.00%)\n",
            "\n",
            "Cluster 16 Profile (Size: 751):\n",
            "  Product:\n",
            "    - Student loan: 246 (32.76%)\n",
            "    - Mortgage: 239 (31.82%)\n",
            "    - Debt collection: 167 (22.24%)\n",
            "  Issue:\n",
            "    - Loan servicing, payments, escrow account: 185 (24.63%)\n",
            "    - Dealing with my lender or servicer: 142 (18.91%)\n",
            "    - Can't repay my loan: 64 (8.52%)\n",
            "  Company:\n",
            "    - Navient Solutions, Inc.: 272 (36.22%)\n",
            "    - Nationstar Mortgage: 202 (26.90%)\n",
            "    - Navy FCU: 50 (6.66%)\n",
            "  State:\n",
            "    - CA: 104 (13.85%)\n",
            "    - FL: 66 (8.79%)\n",
            "    - TX: 57 (7.59%)\n",
            "  Consumer disputed?:\n",
            "    - No: 751 (100.00%)\n",
            "\n",
            "Cluster 17 Profile (Size: 1225):\n",
            "  Product:\n",
            "    - Bank account or service: 407 (33.22%)\n",
            "    - Mortgage: 365 (29.80%)\n",
            "    - Credit card: 242 (19.76%)\n",
            "  Issue:\n",
            "    - Loan servicing, payments, escrow account: 233 (19.02%)\n",
            "    - Account opening, closing, or management: 146 (11.92%)\n",
            "    - Deposits and withdrawals: 105 (8.57%)\n",
            "  Company:\n",
            "    - Bank of America: 807 (65.88%)\n",
            "    - Barclays PLC: 89 (7.27%)\n",
            "    - BB&T Financial: 69 (5.63%)\n",
            "  State:\n",
            "    - CA: 202 (16.49%)\n",
            "    - FL: 112 (9.14%)\n",
            "    - TX: 89 (7.27%)\n",
            "  Consumer disputed?:\n",
            "    - No: 1225 (100.00%)\n",
            "\n",
            "Cluster 18 Profile (Size: 202):\n",
            "  Product:\n",
            "    - Mortgage: 76 (37.62%)\n",
            "    - Debt collection: 66 (32.67%)\n",
            "    - Consumer Loan: 26 (12.87%)\n",
            "  Issue:\n",
            "    - Loan servicing, payments, escrow account: 62 (30.69%)\n",
            "    - Loan modification,collection,foreclosure: 31 (15.35%)\n",
            "    - Communication tactics: 16 (7.92%)\n",
            "  Company:\n",
            "    - Santander Consumer USA Holdings Inc: 25 (12.38%)\n",
            "    - Select Portfolio Servicing, Inc: 19 (9.41%)\n",
            "    - Regions Financial Corporation: 15 (7.43%)\n",
            "  State:\n",
            "    - CA: 33 (16.34%)\n",
            "    - FL: 20 (9.90%)\n",
            "    - TX: 17 (8.42%)\n",
            "  Consumer disputed?:\n",
            "    - Yes: 202 (100.00%)\n",
            "\n",
            "Cluster 19 Profile (Size: 385):\n",
            "  Product:\n",
            "    - Debt collection: 144 (37.40%)\n",
            "    - Mortgage: 101 (26.23%)\n",
            "    - Consumer Loan: 40 (10.39%)\n",
            "  Issue:\n",
            "    - Loan servicing, payments, escrow account: 70 (18.18%)\n",
            "    - Communication tactics: 50 (12.99%)\n",
            "    - Loan modification,collection,foreclosure: 38 (9.87%)\n",
            "  Company:\n",
            "    - HSBC North America Holdings Inc.: 85 (22.08%)\n",
            "    - Freedom Mortgage: 26 (6.75%)\n",
            "    - GM Financial: 20 (5.19%)\n",
            "  State:\n",
            "    - CA: 52 (13.51%)\n",
            "    - NY: 37 (9.61%)\n",
            "    - FL: 29 (7.53%)\n",
            "  Consumer disputed?:\n",
            "    - No: 385 (100.00%)\n"
          ]
        }
      ]
    },
    {
      "cell_type": "markdown",
      "source": [
        "# Analisis Hasil Cluster Customer Complaints\n",
        "1. Cluster 1: 12,76%\n",
        "Analisis: Cluster ini menunjukan pada keluhan nasabah pada permasalahan kartu kredit. Equifax dan Experian merupakan perusahaan yang paling banyak menerima komplain, namun dengan tidak ada sengketa oleh nasabah.\n",
        "2. Cluster 2: 2,88%\n",
        "Analisis: Cluster ini menunjukan pada keluhan hipotek dan rekening yang secara aktif disengketakan oleh nasabah. Dengan JPMorgan Chase & Co menjadi perusahaan yang paling banyak menerima keluhan.\n",
        "3. Cluster 3: 5,22%\n",
        "Analisis: Cluster ini menunjukan pada keluhan pada banyak layanan, namun tidak disengketakan.\n",
        "4. Cluster 4: 10,12%\n",
        "Analisis: Cluster ini menunjukan pada keluhan kartu kredit dan penagihan utang yang banyak ditunjukan kepada Citibank namun tidak ada sengketa oleh nasabah.\n",
        "5. Cluster 5: 3,78%\n",
        "Analisis: Cluster ini menunjukan pada keluhan hipotek dan kartu kredit yang disengketakan oleh nasabah\n",
        "6. Cluster 6: 2,04%\n",
        "Analisis: Cluster ini menunjukan pada keluhan pelaporan kredit dan rekening. Dengan semua keluhan di persengketakan.\n",
        "7. Cluster 7: 6,28%\n",
        "Analisis: Cluster ini menunjukan pada keluhan hipotek dengan Ocwen dan PNC Bank.\n",
        "8. Cluster 8: 6,81%\n",
        "Analisis: Cluster ini menunjukan keluhan pada JPMorgan Chase dalam masalah hipotek dan pinjaman dana.\n",
        "9. Cluster 9: 3.62%\n",
        "Analisis: Cluster ini menunjukan pada keluhan penagihan utang hipotek dan pinjaman mahasiswa. Masalah utama melibatkan layanan pinjaman, dengan California sebagai sumber pengaduan terbesar.\n",
        "10. Cluster 10: 6.14%\n",
        "Analisis: Cluster ini menunjukan keluhan pada Wells Fargo terkait rekening bank dan hipotek. Tidak ada pengaduan yang disengketakan, menunjukkan kemungkinan penyelesaian cepat atau konsumen yang menyerah.\n",
        "11. Cluster 11: 2.49%\n",
        "Analisis: Cluster ini menunjukan pada keluhan kartu kredit dengan sengketa tagihan sebagai keluhan utama.\n",
        "12. Cluster 12: 3.77%\n",
        "Analisis: Cluster ini menunjukan pada keluhan Penagihan utang, pinjaman mahasiswa, dan kartu kredit. Tidak ada pengaduan yang disengketakan, dengan California sebagai sumber pengaduan terbanyak.\n",
        "13. Cluster 13: 3.69%\n",
        "Analisis: Cluster ini menunjukan pada keluhan pelaporan kredit, dengan Equifax sebagai perusahaan utama yang disebut. Dengan semua disengketakan oleh nasabah.\n",
        "14. Cluster 14: 4.21%\n",
        "Analisis: Cluster ini menunjukan pada keluhan Hipotek dan penagihan utang. Masalah utama berkaitan dengan layanan pinjaman. Tidak ada pengaduan yang disengketakan, dengan Florida dan California sebagai wilayah dengan jumlah pengaduan tertinggi.\n",
        "15. Cluster 15: 5.19%\n",
        "Analisis: Cluster ini menunjukan pada keluhan pelaporan kredit dan rekening bank, dengan U.S. Bancorp dan TransUnion sebagai perusahaan utama yang dilaporkan. Tidak ada pengaduan yang disengketakan, dengan California sebagai wilayah dengan pengaduan terbanyak\n",
        "16. Cluster 16: 2.48%\n",
        "Analisis: Cluster ini menunjukan keluhan yang disengketakan terhadap Wells Fargo. Masalah utama mencakup rekening bank dan hipotek, dengan isu layanan akun dan layanan pinjaman sebagai keluhan terbesar.\n",
        "17. Cluster 17: 5.43%\n",
        "Analisis: Cluster ini menunjukan pada keluhan pinjaman mahasiswa dan hipotek, dengan Navient dan Nationstar Mortgage sebagai perusahaan utama. Tidak ada pengaduan yang disengketakan, dengan California melaporkan jumlah pengaduan tertinggi\n",
        "18. Cluster 18: 8.85%\n",
        "Analisis: Cluster ini menunjukan keluhan pada Bank of America  Masalah utama termasuk layanan pinjaman dan manajemen akun.\n",
        "19. Cluster 19: 1.46%  \n",
        "Analisis: Cluster ini menunjukan pada keluhan hipotek dan penagihan utang.\n",
        "20. Cluster 20: 2.78%\n",
        "Analisis: Cluster ini menunjukan pada keluhan penagihan utang dan hipotek."
      ],
      "metadata": {
        "id": "JfgVMEBDS3KG"
      }
    },
    {
      "cell_type": "markdown",
      "source": [
        "# **7. Mengeksport Data**\n",
        "\n",
        "Simpan hasilnya ke dalam file CSV."
      ],
      "metadata": {
        "id": "jaYP1fx5VgWO"
      }
    },
    {
      "cell_type": "code",
      "source": [
        "data_with_clusters.to_csv('Dataset_Clustering.csv', index=False)\n",
        "print(\"Successfuly Saved New Data\")"
      ],
      "metadata": {
        "id": "fkbg_o80aRSH",
        "colab": {
          "base_uri": "https://localhost:8080/"
        },
        "outputId": "733e06e7-8555-473b-d7f7-06e7b318430c"
      },
      "execution_count": 40,
      "outputs": [
        {
          "output_type": "stream",
          "name": "stdout",
          "text": [
            "Successfuly Saved New Data\n"
          ]
        }
      ]
    }
  ]
}